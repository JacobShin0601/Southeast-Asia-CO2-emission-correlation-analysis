{
 "cells": [
  {
   "attachments": {},
   "cell_type": "markdown",
   "metadata": {},
   "source": [
    "## 1. Visualization technique\n",
    "The techniques I applied are: <br>\n",
    "- Line Charts<br>\n",
    "- Combination Chart(scatter + regression line chart)<br>\n",
    "- Auto-correlation chart\n",
    "\n",
    "<font color=green> **Details about the technique:**  </font><br>\n",
    "First, in order to understand the trend of the country's total CO2 emissions, I made a line chart of CO2 emissions from 1990 to 2015. <br>\n",
    "The line chart was very easy to observe the trend of changes in data (CO2 emissions) over time and to compare data between countries. <br>\n",
    "<br>\n",
    "And for industrial structure analysis, I drew a scatter plot of GDP per capita and CO2 emission per capita on the x and y axes, respectively. <br>\n",
    "To see the correlation between two variables. To show this, we also marked a regression line. <br>\n",
    "\n",
    "\n",
    "I displayed an autocorrelation chart (I used the statsmodels package instead of using bokeh). <br>\n",
    "At the same time, I tried to predict the CO2 emission emission by 2025 using Auto Regression (n=5) using dashed line chart. <br>\n",
    "<font color=blue>*(It is connected and merged with the actual data)* <br></font> <br>\n",
    "\n"
   ]
  },
  {
   "attachments": {},
   "cell_type": "markdown",
   "metadata": {},
   "source": [
    "## 2. Visualization Library\n",
    "**Bokeh**\n",
    "\n",
    "<font color=green>**Reason to apply:**</font>  <br>\n",
    "Bokeh supports interactive visualization, allowing you to enlarge and explore specific parts, and I think it is a very suitable package for expressing time series data. (The data I will be discussing here today is time series data.) Also, it can be saved as a picture, and I think it is a very useful package. Personally, I really like the hover function, try hovering the mouse pointer over a point in the scatter plot below. Communicating information interactively is awesome!\n",
    "\n",
    "<font color=green>**Details on Bokeh:**</font><br>\n",
    "Bokeh is a Python library for creating interactive visualizations for modern web browsers. It helps you build beautiful graphics, ranging from simple plots to complex dashboards with streaming datasets. With Bokeh, you can create JavaScript-powered visualizations without writing any JavaScript yourself.\n",
    "\n",
    "<font color=green>**To install:**</font><br>\n",
    "Go to the command line and type: <br>\n",
    "$ pip install bokeh==2.4.3"
   ]
  },
  {
   "attachments": {},
   "cell_type": "markdown",
   "metadata": {},
   "source": [
    "# 3. Demonstration\n",
    "\n",
    "<font color=green> **Visualization Purpose:**  </font><br>\n",
    "I wanted to understand the industrial structure of Southeast Asia (SEA) through the CO2 emissions of each country. <br>\n",
    "I assume that if a country is a manufacturing (secondary industry) oriented society, it can be inferred that CO2 emissions are high. <br>\n",
    "  \n",
    "For instance, in the case of Singapore, which is composed mainly of tertiary industries such as services and finance, <br>\n",
    "there is a negative correlation that CO2 emission decreases as GDP increases. <br>\n",
    "(FYI, Of course, Singapore started the COE system in 1990, limiting the number of cars. However, this system is a system that limits the total amount of automobiles in the city, and although it may affect the difference in CO2 emissions before and after 1990, the continued decrease in CO2 emissions after 1990 cannot be explained.)<br>\n",
    "  \n",
    "On the other hand, in Malaysia, where manufacturing is the center, there is a positive correlation between GDP and CO2 emission. <br>\n",
    "  \n",
    "*(Of course, as GDP increases, the number of vehicles in a country increases, which could also affect CO2 emissions. In addition, an increase in population may lead to an increase in CO2 emissions.)* <br>\n",
    "*(In order to exclude these factors, in the second half, we tried to exclude variables as much as possible using CO2 per capita and GDP per capita.)* <br>\n",
    "<font color=blue> *(All the data was downloaded from WorldBank)* </font> <br>"
   ]
  },
  {
   "attachments": {},
   "cell_type": "markdown",
   "metadata": {},
   "source": [
    "## Package Import"
   ]
  },
  {
   "cell_type": "code",
   "execution_count": 1,
   "metadata": {},
   "outputs": [],
   "source": [
    "import pandas as pd\n",
    "import numpy as np\n",
    "import matplotlib.pyplot as plt\n",
    "from bokeh.models import ColumnDataSource, Range1d, LinearAxis, FixedTicker\n",
    "from bokeh.plotting import figure, show, output_notebook\n",
    "from bokeh.models.tools import HoverTool\n",
    "from sklearn.linear_model import LinearRegression\n"
   ]
  },
  {
   "attachments": {},
   "cell_type": "markdown",
   "metadata": {},
   "source": [
    "## Loading the data(CO2 emission, GDP, population) in Southeast Asia countries"
   ]
  },
  {
   "cell_type": "code",
   "execution_count": 2,
   "metadata": {},
   "outputs": [],
   "source": [
    "### Load the SEA data (CO2, GDP, POP)\n",
    "with open('assets/CO2_SEA.csv', 'r') as f:\n",
    "    df_co2 = pd.read_csv(f, sep=',', header=2, parse_dates=True)\n",
    "    df_co2_all= df_co2.set_index('Country Name').iloc[:, 4:].T\n",
    "    \n",
    "with open('assets/GDP_SEA.csv', 'r') as f:\n",
    "    df_gdp = pd.read_csv(f, sep=',', header=2, parse_dates=True)\n",
    "    df_gdp_all = df_gdp.set_index('Country Name').iloc[:, 4:].T\n",
    "    \n",
    "with open('assets/POP_SEA.csv', 'r') as f:\n",
    "    df_pop = pd.read_csv(f, sep=',', header=2, parse_dates=True)\n",
    "    df_pop_all = df_pop.set_index('Country Name').iloc[:, 4:].T\n",
    "    \n",
    "    \n",
    "df_co2_SEA = df_co2_all[['Vietnam', 'Malaysia', 'Indonesia', 'Thailand', 'Philippines', 'Cambodia', 'Singapore']]\n",
    "df_gdp_SEA = df_gdp_all[['Vietnam', 'Malaysia', 'Indonesia', 'Thailand', 'Philippines', 'Cambodia', 'Singapore']]\n",
    "df_pop_SEA = df_pop_all[['Vietnam', 'Malaysia', 'Indonesia', 'Thailand', 'Philippines', 'Cambodia', 'Singapore']]\n",
    "\n",
    "df_co2_SEA = df_co2_SEA.loc['1990':'2015'].reset_index().rename(columns={'index': 'Year'})\n",
    "df_gdp_SEA = df_gdp_SEA.loc['1990':'2015'].reset_index().rename(columns={'index': 'Year'})\n",
    "df_pop_SEA = df_pop_SEA.loc['1990':'2015'].reset_index().rename(columns={'index': 'Year'})\n",
    "\n",
    "df_co2_SEA['Year'] = pd.to_datetime(df_co2_SEA['Year'], format='%Y')\n",
    "df_gdp_SEA['Year'] = pd.to_datetime(df_gdp_SEA['Year'], format='%Y')\n",
    "df_pop_SEA['Year'] = pd.to_datetime(df_pop_SEA['Year'], format='%Y')"
   ]
  },
  {
   "attachments": {},
   "cell_type": "markdown",
   "metadata": {},
   "source": [
    "## Making a line chart to see the CO2 emission trend per countries"
   ]
  },
  {
   "cell_type": "code",
   "execution_count": 3,
   "metadata": {},
   "outputs": [
    {
     "data": {
      "text/html": [
       "<div class=\"bk-root\">\n",
       "        <a href=\"https://bokeh.org\" target=\"_blank\" class=\"bk-logo bk-logo-small bk-logo-notebook\"></a>\n",
       "        <span id=\"1246\">Loading BokehJS ...</span>\n",
       "    </div>\n"
      ]
     },
     "metadata": {},
     "output_type": "display_data"
    },
    {
     "data": {
      "application/javascript": "(function(root) {\n  function now() {\n    return new Date();\n  }\n\n  const force = true;\n\n  if (typeof root._bokeh_onload_callbacks === \"undefined\" || force === true) {\n    root._bokeh_onload_callbacks = [];\n    root._bokeh_is_loading = undefined;\n  }\n\nconst JS_MIME_TYPE = 'application/javascript';\n  const HTML_MIME_TYPE = 'text/html';\n  const EXEC_MIME_TYPE = 'application/vnd.bokehjs_exec.v0+json';\n  const CLASS_NAME = 'output_bokeh rendered_html';\n\n  /**\n   * Render data to the DOM node\n   */\n  function render(props, node) {\n    const script = document.createElement(\"script\");\n    node.appendChild(script);\n  }\n\n  /**\n   * Handle when an output is cleared or removed\n   */\n  function handleClearOutput(event, handle) {\n    const cell = handle.cell;\n\n    const id = cell.output_area._bokeh_element_id;\n    const server_id = cell.output_area._bokeh_server_id;\n    // Clean up Bokeh references\n    if (id != null && id in Bokeh.index) {\n      Bokeh.index[id].model.document.clear();\n      delete Bokeh.index[id];\n    }\n\n    if (server_id !== undefined) {\n      // Clean up Bokeh references\n      const cmd_clean = \"from bokeh.io.state import curstate; print(curstate().uuid_to_server['\" + server_id + \"'].get_sessions()[0].document.roots[0]._id)\";\n      cell.notebook.kernel.execute(cmd_clean, {\n        iopub: {\n          output: function(msg) {\n            const id = msg.content.text.trim();\n            if (id in Bokeh.index) {\n              Bokeh.index[id].model.document.clear();\n              delete Bokeh.index[id];\n            }\n          }\n        }\n      });\n      // Destroy server and session\n      const cmd_destroy = \"import bokeh.io.notebook as ion; ion.destroy_server('\" + server_id + \"')\";\n      cell.notebook.kernel.execute(cmd_destroy);\n    }\n  }\n\n  /**\n   * Handle when a new output is added\n   */\n  function handleAddOutput(event, handle) {\n    const output_area = handle.output_area;\n    const output = handle.output;\n\n    // limit handleAddOutput to display_data with EXEC_MIME_TYPE content only\n    if ((output.output_type != \"display_data\") || (!Object.prototype.hasOwnProperty.call(output.data, EXEC_MIME_TYPE))) {\n      return\n    }\n\n    const toinsert = output_area.element.find(\".\" + CLASS_NAME.split(' ')[0]);\n\n    if (output.metadata[EXEC_MIME_TYPE][\"id\"] !== undefined) {\n      toinsert[toinsert.length - 1].firstChild.textContent = output.data[JS_MIME_TYPE];\n      // store reference to embed id on output_area\n      output_area._bokeh_element_id = output.metadata[EXEC_MIME_TYPE][\"id\"];\n    }\n    if (output.metadata[EXEC_MIME_TYPE][\"server_id\"] !== undefined) {\n      const bk_div = document.createElement(\"div\");\n      bk_div.innerHTML = output.data[HTML_MIME_TYPE];\n      const script_attrs = bk_div.children[0].attributes;\n      for (let i = 0; i < script_attrs.length; i++) {\n        toinsert[toinsert.length - 1].firstChild.setAttribute(script_attrs[i].name, script_attrs[i].value);\n        toinsert[toinsert.length - 1].firstChild.textContent = bk_div.children[0].textContent\n      }\n      // store reference to server id on output_area\n      output_area._bokeh_server_id = output.metadata[EXEC_MIME_TYPE][\"server_id\"];\n    }\n  }\n\n  function register_renderer(events, OutputArea) {\n\n    function append_mime(data, metadata, element) {\n      // create a DOM node to render to\n      const toinsert = this.create_output_subarea(\n        metadata,\n        CLASS_NAME,\n        EXEC_MIME_TYPE\n      );\n      this.keyboard_manager.register_events(toinsert);\n      // Render to node\n      const props = {data: data, metadata: metadata[EXEC_MIME_TYPE]};\n      render(props, toinsert[toinsert.length - 1]);\n      element.append(toinsert);\n      return toinsert\n    }\n\n    /* Handle when an output is cleared or removed */\n    events.on('clear_output.CodeCell', handleClearOutput);\n    events.on('delete.Cell', handleClearOutput);\n\n    /* Handle when a new output is added */\n    events.on('output_added.OutputArea', handleAddOutput);\n\n    /**\n     * Register the mime type and append_mime function with output_area\n     */\n    OutputArea.prototype.register_mime_type(EXEC_MIME_TYPE, append_mime, {\n      /* Is output safe? */\n      safe: true,\n      /* Index of renderer in `output_area.display_order` */\n      index: 0\n    });\n  }\n\n  // register the mime type if in Jupyter Notebook environment and previously unregistered\n  if (root.Jupyter !== undefined) {\n    const events = require('base/js/events');\n    const OutputArea = require('notebook/js/outputarea').OutputArea;\n\n    if (OutputArea.prototype.mime_types().indexOf(EXEC_MIME_TYPE) == -1) {\n      register_renderer(events, OutputArea);\n    }\n  }\n  if (typeof (root._bokeh_timeout) === \"undefined\" || force === true) {\n    root._bokeh_timeout = Date.now() + 5000;\n    root._bokeh_failed_load = false;\n  }\n\n  const NB_LOAD_WARNING = {'data': {'text/html':\n     \"<div style='background-color: #fdd'>\\n\"+\n     \"<p>\\n\"+\n     \"BokehJS does not appear to have successfully loaded. If loading BokehJS from CDN, this \\n\"+\n     \"may be due to a slow or bad network connection. Possible fixes:\\n\"+\n     \"</p>\\n\"+\n     \"<ul>\\n\"+\n     \"<li>re-rerun `output_notebook()` to attempt to load from CDN again, or</li>\\n\"+\n     \"<li>use INLINE resources instead, as so:</li>\\n\"+\n     \"</ul>\\n\"+\n     \"<code>\\n\"+\n     \"from bokeh.resources import INLINE\\n\"+\n     \"output_notebook(resources=INLINE)\\n\"+\n     \"</code>\\n\"+\n     \"</div>\"}};\n\n  function display_loaded() {\n    const el = document.getElementById(\"1246\");\n    if (el != null) {\n      el.textContent = \"BokehJS is loading...\";\n    }\n    if (root.Bokeh !== undefined) {\n      if (el != null) {\n        el.textContent = \"BokehJS \" + root.Bokeh.version + \" successfully loaded.\";\n      }\n    } else if (Date.now() < root._bokeh_timeout) {\n      setTimeout(display_loaded, 100)\n    }\n  }\n\n  function run_callbacks() {\n    try {\n      root._bokeh_onload_callbacks.forEach(function(callback) {\n        if (callback != null)\n          callback();\n      });\n    } finally {\n      delete root._bokeh_onload_callbacks\n    }\n    console.debug(\"Bokeh: all callbacks have finished\");\n  }\n\n  function load_libs(css_urls, js_urls, callback) {\n    if (css_urls == null) css_urls = [];\n    if (js_urls == null) js_urls = [];\n\n    root._bokeh_onload_callbacks.push(callback);\n    if (root._bokeh_is_loading > 0) {\n      console.debug(\"Bokeh: BokehJS is being loaded, scheduling callback at\", now());\n      return null;\n    }\n    if (js_urls == null || js_urls.length === 0) {\n      run_callbacks();\n      return null;\n    }\n    console.debug(\"Bokeh: BokehJS not loaded, scheduling load and callback at\", now());\n    root._bokeh_is_loading = css_urls.length + js_urls.length;\n\n    function on_load() {\n      root._bokeh_is_loading--;\n      if (root._bokeh_is_loading === 0) {\n        console.debug(\"Bokeh: all BokehJS libraries/stylesheets loaded\");\n        run_callbacks()\n      }\n    }\n\n    function on_error(url) {\n      console.error(\"failed to load \" + url);\n    }\n\n    for (let i = 0; i < css_urls.length; i++) {\n      const url = css_urls[i];\n      const element = document.createElement(\"link\");\n      element.onload = on_load;\n      element.onerror = on_error.bind(null, url);\n      element.rel = \"stylesheet\";\n      element.type = \"text/css\";\n      element.href = url;\n      console.debug(\"Bokeh: injecting link tag for BokehJS stylesheet: \", url);\n      document.body.appendChild(element);\n    }\n\n    for (let i = 0; i < js_urls.length; i++) {\n      const url = js_urls[i];\n      const element = document.createElement('script');\n      element.onload = on_load;\n      element.onerror = on_error.bind(null, url);\n      element.async = false;\n      element.src = url;\n      console.debug(\"Bokeh: injecting script tag for BokehJS library: \", url);\n      document.head.appendChild(element);\n    }\n  };\n\n  function inject_raw_css(css) {\n    const element = document.createElement(\"style\");\n    element.appendChild(document.createTextNode(css));\n    document.body.appendChild(element);\n  }\n\n  const js_urls = [\"https://cdn.bokeh.org/bokeh/release/bokeh-2.4.3.min.js\", \"https://cdn.bokeh.org/bokeh/release/bokeh-gl-2.4.3.min.js\", \"https://cdn.bokeh.org/bokeh/release/bokeh-widgets-2.4.3.min.js\", \"https://cdn.bokeh.org/bokeh/release/bokeh-tables-2.4.3.min.js\", \"https://cdn.bokeh.org/bokeh/release/bokeh-mathjax-2.4.3.min.js\"];\n  const css_urls = [];\n\n  const inline_js = [    function(Bokeh) {\n      Bokeh.set_log_level(\"info\");\n    },\nfunction(Bokeh) {\n    }\n  ];\n\n  function run_inline_js() {\n    if (root.Bokeh !== undefined || force === true) {\n          for (let i = 0; i < inline_js.length; i++) {\n      inline_js[i].call(root, root.Bokeh);\n    }\nif (force === true) {\n        display_loaded();\n      }} else if (Date.now() < root._bokeh_timeout) {\n      setTimeout(run_inline_js, 100);\n    } else if (!root._bokeh_failed_load) {\n      console.log(\"Bokeh: BokehJS failed to load within specified timeout.\");\n      root._bokeh_failed_load = true;\n    } else if (force !== true) {\n      const cell = $(document.getElementById(\"1246\")).parents('.cell').data().cell;\n      cell.output_area.append_execute_result(NB_LOAD_WARNING)\n    }\n  }\n\n  if (root._bokeh_is_loading === 0) {\n    console.debug(\"Bokeh: BokehJS loaded, going straight to plotting\");\n    run_inline_js();\n  } else {\n    load_libs(css_urls, js_urls, function() {\n      console.debug(\"Bokeh: BokehJS plotting callback run at\", now());\n      run_inline_js();\n    });\n  }\n}(window));",
      "application/vnd.bokehjs_load.v0+json": ""
     },
     "metadata": {},
     "output_type": "display_data"
    },
    {
     "data": {
      "text/html": [
       "\n",
       "  <div class=\"bk-root\" id=\"d8b4a90c-7fd9-4a5b-ac68-07f07bb6d9d3\" data-root-id=\"1003\"></div>\n"
      ]
     },
     "metadata": {},
     "output_type": "display_data"
    },
    {
     "data": {
      "application/javascript": "(function(root) {\n  function embed_document(root) {\n  const docs_json = {\"4d7bb920-1412-473e-8ab5-3ab2bd1ef82e\":{\"defs\":[],\"roots\":{\"references\":[{\"attributes\":{\"below\":[{\"id\":\"1012\"}],\"center\":[{\"id\":\"1015\"},{\"id\":\"1019\"},{\"id\":\"1063\"}],\"height\":400,\"left\":[{\"id\":\"1016\"}],\"renderers\":[{\"id\":\"1038\"},{\"id\":\"1069\"},{\"id\":\"1099\"},{\"id\":\"1129\"},{\"id\":\"1159\"},{\"id\":\"1189\"},{\"id\":\"1219\"}],\"title\":{\"id\":\"1040\"},\"toolbar\":{\"id\":\"1027\"},\"width\":800,\"x_range\":{\"id\":\"1004\"},\"x_scale\":{\"id\":\"1008\"},\"y_range\":{\"id\":\"1006\"},\"y_scale\":{\"id\":\"1010\"}},\"id\":\"1003\",\"subtype\":\"Figure\",\"type\":\"Plot\"},{\"attributes\":{\"coordinates\":null,\"group\":null,\"text\":\"CO2 emissions in SEA\"},\"id\":\"1040\",\"type\":\"Title\"},{\"attributes\":{\"line_alpha\":0.2,\"line_color\":\"blue\",\"line_width\":2,\"x\":{\"field\":\"Year\"},\"y\":{\"field\":\"Singapore\"}},\"id\":\"1037\",\"type\":\"Line\"},{\"attributes\":{\"coordinates\":null,\"group\":null,\"items\":[{\"id\":\"1064\"},{\"id\":\"1094\"},{\"id\":\"1124\"},{\"id\":\"1154\"},{\"id\":\"1184\"},{\"id\":\"1214\"},{\"id\":\"1244\"}]},\"id\":\"1063\",\"type\":\"Legend\"},{\"attributes\":{\"source\":{\"id\":\"1002\"}},\"id\":\"1039\",\"type\":\"CDSView\"},{\"attributes\":{\"line_color\":\"blue\",\"line_width\":2,\"x\":{\"field\":\"Year\"},\"y\":{\"field\":\"Singapore\"}},\"id\":\"1035\",\"type\":\"Line\"},{\"attributes\":{\"line_alpha\":0.5,\"line_width\":2,\"x\":{\"field\":\"Year\"},\"y\":{\"field\":\"Philippines\"}},\"id\":\"1156\",\"type\":\"Line\"},{\"attributes\":{\"line_alpha\":0.1,\"line_color\":\"blue\",\"line_width\":2,\"x\":{\"field\":\"Year\"},\"y\":{\"field\":\"Singapore\"}},\"id\":\"1036\",\"type\":\"Line\"},{\"attributes\":{\"label\":{\"value\":\"Singapore\"},\"renderers\":[{\"id\":\"1038\"}]},\"id\":\"1064\",\"type\":\"LegendItem\"},{\"attributes\":{\"label\":{\"value\":\"Indonesia\"},\"renderers\":[{\"id\":\"1129\"}]},\"id\":\"1154\",\"type\":\"LegendItem\"},{\"attributes\":{},\"id\":\"1043\",\"type\":\"BasicTickFormatter\"},{\"attributes\":{},\"id\":\"1044\",\"type\":\"AllLabels\"},{\"attributes\":{},\"id\":\"1046\",\"type\":\"DatetimeTickFormatter\"},{\"attributes\":{},\"id\":\"1047\",\"type\":\"AllLabels\"},{\"attributes\":{},\"id\":\"1048\",\"type\":\"UnionRenderers\"},{\"attributes\":{\"num_minor_ticks\":5,\"tickers\":[{\"id\":\"1051\"},{\"id\":\"1052\"},{\"id\":\"1053\"},{\"id\":\"1054\"},{\"id\":\"1055\"},{\"id\":\"1056\"},{\"id\":\"1057\"},{\"id\":\"1058\"},{\"id\":\"1059\"},{\"id\":\"1060\"},{\"id\":\"1061\"},{\"id\":\"1062\"}]},\"id\":\"1013\",\"type\":\"DatetimeTicker\"},{\"attributes\":{},\"id\":\"1049\",\"type\":\"Selection\"},{\"attributes\":{\"line_alpha\":0.5,\"line_color\":\"orange\",\"line_width\":2,\"x\":{\"field\":\"Year\"},\"y\":{\"field\":\"Vietnam\"}},\"id\":\"1216\",\"type\":\"Line\"},{\"attributes\":{},\"id\":\"1008\",\"type\":\"LinearScale\"},{\"attributes\":{\"line_alpha\":0.2,\"line_color\":\"orange\",\"line_width\":2,\"x\":{\"field\":\"Year\"},\"y\":{\"field\":\"Vietnam\"}},\"id\":\"1218\",\"type\":\"Line\"},{\"attributes\":{},\"id\":\"1004\",\"type\":\"DataRange1d\"},{\"attributes\":{\"data\":{\"Cambodia\":{\"__ndarray__\":\"+7yiHP73wT/DA/gLwOnBP5zhZpWO9ME/88S8k0K3wT+A0twoPlzCP9psgIFMqME/MqDvudHUwT+xS3sxTZTCPzvTMEBxvsQ//Y9yFWSRxD+rpsOIwKPEP7XIAPkRL8Y/94tB1j9ixj9h2+MBLrLHP8GluIOLUMc/JyFlhcGmyT+LlcSPkhzMP3lykyl0H9E/Na9qPB230j8hgknk75HVP9R47kwN/NY/Gd9FyS2X1z+mwNraJI3YPx08mdufctg/5EP6qdMe3T+TQc/+PGHhPw==\",\"dtype\":\"float64\",\"order\":\"little\",\"shape\":[26]},\"Indonesia\":{\"__ndarray__\":\"IMaGihkz6j8DckNxJSfsPwHpdMTQO+0/Zus+uLUI7z+IMkhPKG/wP/dktaVHLPI/6QnIw2vy8j8nis7sBZr0P/yuCgBjbvQ/zv2Nf2Bv9T+ezIte1Tr1PwAXIer1ifY/NondhKJ/9j/Z555SsT/4P9vKIoPHc/g/nBgIYygx+D/gQeoUCG75PzBcopt0Kfo/bOZYGfaO+T9n+UggBDn6P2HLzhzBffs/APNQnaUG/z/P12P5OAL/P2ExI4tudvw/V/PvXgVZ/j8Hodsjs0D+Pw==\",\"dtype\":\"float64\",\"order\":\"little\",\"shape\":[26]},\"Malaysia\":{\"__ndarray__\":\"XqbWL0M8CEAZ2rh4/B4MQMph75g0RwxAKx7TZgT9DUCObuCxke4PQMmIxvbl2RBAXexgmdfFEkBQZjiFzqoTQDCJ5sziHRNA0f71UawzFEDHZ353WnIVQIEteUJl1xVAfUVfQMqIFkBCZgyYemYXQPIYE0utIRlAvzVB4S0RGkA+YHQKA5QaQJsS568JbxxAViPp8d3MHUBFGRqTAD0aQOMDMLVUZBxAKZgn/wdOHEAYXmygLFIcQDcIqdDXWx5AoGjQBbuxH0AVDa1coEEfQA==\",\"dtype\":\"float64\",\"order\":\"little\",\"shape\":[26]},\"Philippines\":{\"__ndarray__\":\"QabMwQ095T8kKG0m6H/kP3njekkoquU/slL97RT45j/UcO37+izoP78K4IvfUOw/9b+6Wzkg7j8P6DFtqWLwP0JSZWVpzu8/WMVTnZ8C7j96CMcnJpXtP3kwXPzITuw/w9p3sMsl7D8pjGUBpV7sP7ctDBJ5Yuw/WrmWealr7D+vxO2SN0vpPyuckgr3NOo/WU77mHJ06j87ofrbkWvqP7S0oeSi5us/fK8FidCq6z+37Ry7Sl7sP/BgQVCm6O4/Z3Z2fUE18D9gfFcQ32TxPw==\",\"dtype\":\"float64\",\"order\":\"little\",\"shape\":[26]},\"Singapore\":{\"__ndarray__\":\"Aket6LwDI0B7xggiJnAjQL3j8s3YcSNAp861VXjTJUDiqNJYejcmQEi4pIQxUyVAjMqDb+D8JEAnPgab7BokQCEK4bFL3iJAUurzaNkYI0DwjAR0COokQIcd1gVpUCRARmYbq2/GI0A+EAgsLYwiQOmcmTKCBCNA+GUfc/BMIUBS/gUP5eMgQICqMsZusCBAjmxrBYvBH0DqF2XPMiQfQE/sCSwltSBAFfS3nP5FIUAbQJjgvHIgQK4s5/X2QyBAwFd9Yh08IED+HIpIYGogQA==\",\"dtype\":\"float64\",\"order\":\"little\",\"shape\":[26]},\"Thailand\":{\"__ndarray__\":\"X8KNXWY9+T9bij6Rpmr7P259CWhs4P0/A6e7LDLUAEDha6Dbr58CQE/cHL3s9ARA/43d5IU+B0A2gd7gLWUHQCqJffUEXgRAxZSwlWwIBUCaCTHbQOcEQLYBMGhOzQVArQEze1IBB0DYfQD4cMkHQIguxJwU3wlAe7hk1cahCkDfeOWqYLoKQEYt04jsJQtA6xF1F4RdC0BSik+3IVoKQMENOayJ5wtAm9Az/aqtC0A/dCrIJZANQEyfKPQEmw5ACfkS+qAEDkAmNzh6YbwOQA==\",\"dtype\":\"float64\",\"order\":\"little\",\"shape\":[26]},\"Vietnam\":{\"__ndarray__\":\"/QDJCSgy0j97ZSrt6D/SP+oiX0gFytI/vxjiFwl11T/jfiHUES/XP8n6gy6i09o/4VKEDeh43T+R3W2icvHgPy9dRCVxoOI/e3kRR1vK4j/r6v10yIHkP+DUcY+3euY/Z9VoBXMZ6j8/jGhRH5HrP7+Q2f79YfA/P+1PwiCh8T8FAZzlR/DxPy5Iw7ifsfM/E8Wr98HQ9T/LIqE0rU34P5uuZ+oJivs/ARf8ZoMU/D+1qQ/uf7X7PzifDWx39/w/oGUZcMWN/z/X0Mq++QsDQA==\",\"dtype\":\"float64\",\"order\":\"little\",\"shape\":[26]},\"Year\":{\"__ndarray__\":\"AACA53JeYkIAAAANaUljQgAAgDJfNGRCAACAI/ofZUIAAABJ8ApmQgAAgG7m9WZCAAAAlNzgZ0IAAACFd8xoQgAAgKptt2lCAAAA0GOiakIAAID1WY1rQgAAgOb0eGxCAAAADOtjbUIAAIAx4U5uQgAAAFfXOW9CAAAAJLkScEIAAMA2NIhwQgAAgEmv/XBCAABAXCpzcUIAAMDU9+hxQgAAgOdyXnJCAABA+u3TckIAAAANaUlzQgAAgIU2v3NCAABAmLE0dEIAAACrLKp0Qg==\",\"dtype\":\"float64\",\"order\":\"little\",\"shape\":[26]},\"index\":[0,1,2,3,4,5,6,7,8,9,10,11,12,13,14,15,16,17,18,19,20,21,22,23,24,25]},\"selected\":{\"id\":\"1049\"},\"selection_policy\":{\"id\":\"1048\"}},\"id\":\"1002\",\"type\":\"ColumnDataSource\"},{\"attributes\":{\"line_alpha\":0.1,\"line_color\":\"orange\",\"line_width\":2,\"x\":{\"field\":\"Year\"},\"y\":{\"field\":\"Vietnam\"}},\"id\":\"1217\",\"type\":\"Line\"},{\"attributes\":{\"source\":{\"id\":\"1002\"}},\"id\":\"1220\",\"type\":\"CDSView\"},{\"attributes\":{\"line_alpha\":0.2,\"line_color\":\"yellow\",\"line_width\":2,\"x\":{\"field\":\"Year\"},\"y\":{\"field\":\"Indonesia\"}},\"id\":\"1128\",\"type\":\"Line\"},{\"attributes\":{\"line_alpha\":0.5,\"line_color\":\"yellow\",\"line_width\":2,\"x\":{\"field\":\"Year\"},\"y\":{\"field\":\"Indonesia\"}},\"id\":\"1126\",\"type\":\"Line\"},{\"attributes\":{\"source\":{\"id\":\"1002\"}},\"id\":\"1130\",\"type\":\"CDSView\"},{\"attributes\":{\"line_alpha\":0.1,\"line_color\":\"yellow\",\"line_width\":2,\"x\":{\"field\":\"Year\"},\"y\":{\"field\":\"Indonesia\"}},\"id\":\"1127\",\"type\":\"Line\"},{\"attributes\":{},\"id\":\"1006\",\"type\":\"DataRange1d\"},{\"attributes\":{\"line_alpha\":0.1,\"line_width\":2,\"x\":{\"field\":\"Year\"},\"y\":{\"field\":\"Philippines\"}},\"id\":\"1157\",\"type\":\"Line\"},{\"attributes\":{\"days\":[1,8,15,22]},\"id\":\"1056\",\"type\":\"DaysTicker\"},{\"attributes\":{\"axis\":{\"id\":\"1012\"},\"coordinates\":null,\"group\":null,\"ticker\":null},\"id\":\"1015\",\"type\":\"Grid\"},{\"attributes\":{\"axis_label\":\"Year (1990-2015)\",\"coordinates\":null,\"formatter\":{\"id\":\"1046\"},\"group\":null,\"major_label_policy\":{\"id\":\"1047\"},\"ticker\":{\"id\":\"1013\"}},\"id\":\"1012\",\"type\":\"DatetimeAxis\"},{\"attributes\":{},\"id\":\"1010\",\"type\":\"LinearScale\"},{\"attributes\":{\"days\":[1,4,7,10,13,16,19,22,25,28]},\"id\":\"1055\",\"type\":\"DaysTicker\"},{\"attributes\":{\"axis\":{\"id\":\"1016\"},\"coordinates\":null,\"dimension\":1,\"group\":null,\"ticker\":null},\"id\":\"1019\",\"type\":\"Grid\"},{\"attributes\":{},\"id\":\"1024\",\"type\":\"ResetTool\"},{\"attributes\":{\"line_alpha\":0.2,\"line_width\":2,\"x\":{\"field\":\"Year\"},\"y\":{\"field\":\"Philippines\"}},\"id\":\"1158\",\"type\":\"Line\"},{\"attributes\":{\"coordinates\":null,\"data_source\":{\"id\":\"1002\"},\"glyph\":{\"id\":\"1066\"},\"group\":null,\"hover_glyph\":null,\"muted_glyph\":{\"id\":\"1068\"},\"nonselection_glyph\":{\"id\":\"1067\"},\"view\":{\"id\":\"1070\"}},\"id\":\"1069\",\"type\":\"GlyphRenderer\"},{\"attributes\":{},\"id\":\"1020\",\"type\":\"PanTool\"},{\"attributes\":{\"tools\":[{\"id\":\"1020\"},{\"id\":\"1021\"},{\"id\":\"1022\"},{\"id\":\"1023\"},{\"id\":\"1024\"},{\"id\":\"1025\"}]},\"id\":\"1027\",\"type\":\"Toolbar\"},{\"attributes\":{\"line_alpha\":0.1,\"line_color\":\"red\",\"line_width\":2,\"x\":{\"field\":\"Year\"},\"y\":{\"field\":\"Malaysia\"}},\"id\":\"1067\",\"type\":\"Line\"},{\"attributes\":{\"coordinates\":null,\"data_source\":{\"id\":\"1002\"},\"glyph\":{\"id\":\"1156\"},\"group\":null,\"hover_glyph\":null,\"muted_glyph\":{\"id\":\"1158\"},\"nonselection_glyph\":{\"id\":\"1157\"},\"view\":{\"id\":\"1160\"}},\"id\":\"1159\",\"type\":\"GlyphRenderer\"},{\"attributes\":{\"label\":{\"value\":\"Vietnam\"},\"renderers\":[{\"id\":\"1219\"}]},\"id\":\"1244\",\"type\":\"LegendItem\"},{\"attributes\":{\"line_color\":\"red\",\"line_width\":2,\"x\":{\"field\":\"Year\"},\"y\":{\"field\":\"Malaysia\"}},\"id\":\"1066\",\"type\":\"Line\"},{\"attributes\":{\"line_alpha\":0.2,\"line_color\":\"red\",\"line_width\":2,\"x\":{\"field\":\"Year\"},\"y\":{\"field\":\"Malaysia\"}},\"id\":\"1068\",\"type\":\"Line\"},{\"attributes\":{\"mantissas\":[1,2,5],\"max_interval\":500.0,\"num_minor_ticks\":0},\"id\":\"1051\",\"type\":\"AdaptiveTicker\"},{\"attributes\":{\"source\":{\"id\":\"1002\"}},\"id\":\"1160\",\"type\":\"CDSView\"},{\"attributes\":{\"label\":{\"value\":\"Malaysia\"},\"renderers\":[{\"id\":\"1069\"}]},\"id\":\"1094\",\"type\":\"LegendItem\"},{\"attributes\":{\"base\":60,\"mantissas\":[1,2,5,10,15,20,30],\"max_interval\":1800000.0,\"min_interval\":1000.0,\"num_minor_ticks\":0},\"id\":\"1052\",\"type\":\"AdaptiveTicker\"},{\"attributes\":{\"source\":{\"id\":\"1002\"}},\"id\":\"1070\",\"type\":\"CDSView\"},{\"attributes\":{\"label\":{\"value\":\"Philippines\"},\"renderers\":[{\"id\":\"1159\"}]},\"id\":\"1184\",\"type\":\"LegendItem\"},{\"attributes\":{\"days\":[1,2,3,4,5,6,7,8,9,10,11,12,13,14,15,16,17,18,19,20,21,22,23,24,25,26,27,28,29,30,31]},\"id\":\"1054\",\"type\":\"DaysTicker\"},{\"attributes\":{},\"id\":\"1017\",\"type\":\"BasicTicker\"},{\"attributes\":{\"base\":24,\"mantissas\":[1,2,4,6,8,12],\"max_interval\":43200000.0,\"min_interval\":3600000.0,\"num_minor_ticks\":0},\"id\":\"1053\",\"type\":\"AdaptiveTicker\"},{\"attributes\":{},\"id\":\"1025\",\"type\":\"HelpTool\"},{\"attributes\":{\"days\":[1,15]},\"id\":\"1057\",\"type\":\"DaysTicker\"},{\"attributes\":{\"months\":[0,1,2,3,4,5,6,7,8,9,10,11]},\"id\":\"1058\",\"type\":\"MonthsTicker\"},{\"attributes\":{\"bottom_units\":\"screen\",\"coordinates\":null,\"fill_alpha\":0.5,\"fill_color\":\"lightgrey\",\"group\":null,\"left_units\":\"screen\",\"level\":\"overlay\",\"line_alpha\":1.0,\"line_color\":\"black\",\"line_dash\":[4,4],\"line_width\":2,\"right_units\":\"screen\",\"syncable\":false,\"top_units\":\"screen\"},\"id\":\"1026\",\"type\":\"BoxAnnotation\"},{\"attributes\":{\"months\":[0,6]},\"id\":\"1061\",\"type\":\"MonthsTicker\"},{\"attributes\":{\"months\":[0,2,4,6,8,10]},\"id\":\"1059\",\"type\":\"MonthsTicker\"},{\"attributes\":{},\"id\":\"1023\",\"type\":\"SaveTool\"},{\"attributes\":{},\"id\":\"1062\",\"type\":\"YearsTicker\"},{\"attributes\":{},\"id\":\"1021\",\"type\":\"WheelZoomTool\"},{\"attributes\":{\"months\":[0,4,8]},\"id\":\"1060\",\"type\":\"MonthsTicker\"},{\"attributes\":{\"axis_label\":\"CO2 emmissions (metric tons)\",\"coordinates\":null,\"formatter\":{\"id\":\"1043\"},\"group\":null,\"major_label_policy\":{\"id\":\"1044\"},\"ticker\":{\"id\":\"1017\"}},\"id\":\"1016\",\"type\":\"LinearAxis\"},{\"attributes\":{\"coordinates\":null,\"data_source\":{\"id\":\"1002\"},\"glyph\":{\"id\":\"1035\"},\"group\":null,\"hover_glyph\":null,\"muted_glyph\":{\"id\":\"1037\"},\"nonselection_glyph\":{\"id\":\"1036\"},\"view\":{\"id\":\"1039\"}},\"id\":\"1038\",\"type\":\"GlyphRenderer\"},{\"attributes\":{\"overlay\":{\"id\":\"1026\"}},\"id\":\"1022\",\"type\":\"BoxZoomTool\"},{\"attributes\":{\"label\":{\"value\":\"Cambodia\"},\"renderers\":[{\"id\":\"1189\"}]},\"id\":\"1214\",\"type\":\"LegendItem\"},{\"attributes\":{\"line_alpha\":0.5,\"line_color\":\"purple\",\"line_width\":2,\"x\":{\"field\":\"Year\"},\"y\":{\"field\":\"Cambodia\"}},\"id\":\"1186\",\"type\":\"Line\"},{\"attributes\":{\"line_alpha\":0.1,\"line_color\":\"purple\",\"line_width\":2,\"x\":{\"field\":\"Year\"},\"y\":{\"field\":\"Cambodia\"}},\"id\":\"1187\",\"type\":\"Line\"},{\"attributes\":{\"coordinates\":null,\"data_source\":{\"id\":\"1002\"},\"glyph\":{\"id\":\"1216\"},\"group\":null,\"hover_glyph\":null,\"muted_glyph\":{\"id\":\"1218\"},\"nonselection_glyph\":{\"id\":\"1217\"},\"view\":{\"id\":\"1220\"}},\"id\":\"1219\",\"type\":\"GlyphRenderer\"},{\"attributes\":{\"coordinates\":null,\"data_source\":{\"id\":\"1002\"},\"glyph\":{\"id\":\"1186\"},\"group\":null,\"hover_glyph\":null,\"muted_glyph\":{\"id\":\"1188\"},\"nonselection_glyph\":{\"id\":\"1187\"},\"view\":{\"id\":\"1190\"}},\"id\":\"1189\",\"type\":\"GlyphRenderer\"},{\"attributes\":{\"line_alpha\":0.2,\"line_color\":\"green\",\"line_width\":2,\"x\":{\"field\":\"Year\"},\"y\":{\"field\":\"Thailand\"}},\"id\":\"1098\",\"type\":\"Line\"},{\"attributes\":{\"source\":{\"id\":\"1002\"}},\"id\":\"1190\",\"type\":\"CDSView\"},{\"attributes\":{\"line_alpha\":0.5,\"line_color\":\"green\",\"line_width\":2,\"x\":{\"field\":\"Year\"},\"y\":{\"field\":\"Thailand\"}},\"id\":\"1096\",\"type\":\"Line\"},{\"attributes\":{\"coordinates\":null,\"data_source\":{\"id\":\"1002\"},\"glyph\":{\"id\":\"1096\"},\"group\":null,\"hover_glyph\":null,\"muted_glyph\":{\"id\":\"1098\"},\"nonselection_glyph\":{\"id\":\"1097\"},\"view\":{\"id\":\"1100\"}},\"id\":\"1099\",\"type\":\"GlyphRenderer\"},{\"attributes\":{\"line_alpha\":0.2,\"line_color\":\"purple\",\"line_width\":2,\"x\":{\"field\":\"Year\"},\"y\":{\"field\":\"Cambodia\"}},\"id\":\"1188\",\"type\":\"Line\"},{\"attributes\":{\"line_alpha\":0.1,\"line_color\":\"green\",\"line_width\":2,\"x\":{\"field\":\"Year\"},\"y\":{\"field\":\"Thailand\"}},\"id\":\"1097\",\"type\":\"Line\"},{\"attributes\":{\"source\":{\"id\":\"1002\"}},\"id\":\"1100\",\"type\":\"CDSView\"},{\"attributes\":{\"label\":{\"value\":\"Thailand\"},\"renderers\":[{\"id\":\"1099\"}]},\"id\":\"1124\",\"type\":\"LegendItem\"},{\"attributes\":{\"coordinates\":null,\"data_source\":{\"id\":\"1002\"},\"glyph\":{\"id\":\"1126\"},\"group\":null,\"hover_glyph\":null,\"muted_glyph\":{\"id\":\"1128\"},\"nonselection_glyph\":{\"id\":\"1127\"},\"view\":{\"id\":\"1130\"}},\"id\":\"1129\",\"type\":\"GlyphRenderer\"}],\"root_ids\":[\"1003\"]},\"title\":\"Bokeh Application\",\"version\":\"2.4.3\"}};\n  const render_items = [{\"docid\":\"4d7bb920-1412-473e-8ab5-3ab2bd1ef82e\",\"root_ids\":[\"1003\"],\"roots\":{\"1003\":\"d8b4a90c-7fd9-4a5b-ac68-07f07bb6d9d3\"}}];\n  root.Bokeh.embed.embed_items_notebook(docs_json, render_items);\n  }\n  if (root.Bokeh !== undefined) {\n    embed_document(root);\n  } else {\n    let attempts = 0;\n    const timer = setInterval(function(root) {\n      if (root.Bokeh !== undefined) {\n        clearInterval(timer);\n        embed_document(root);\n      } else {\n        attempts++;\n        if (attempts > 100) {\n          clearInterval(timer);\n          console.log(\"Bokeh: ERROR: Unable to run BokehJS code because BokehJS library is missing\");\n        }\n      }\n    }, 10, root)\n  }\n})(window);",
      "application/vnd.bokehjs_exec.v0+json": ""
     },
     "metadata": {
      "application/vnd.bokehjs_exec.v0+json": {
       "id": "1003"
      }
     },
     "output_type": "display_data"
    }
   ],
   "source": [
    "### 1. line plot for CO2 emission data in SEA\n",
    "lst_countries = ['Singapore', 'Malaysia', 'Thailand', 'Indonesia', 'Philippines', 'Cambodia', 'Vietnam']\n",
    "\n",
    "### Make line plot of CO2 emissions for all countries in SEA\n",
    "source = ColumnDataSource(df_co2_SEA)\n",
    "co2 = figure(x_axis_type='datetime', plot_width=800, plot_height=400)\n",
    "\n",
    "# co2.multi_line(xs=[df_co2_SEA.index]*len(df_co2_SEA.columns), ys=[df_co2_SEA[col] for col in df_co2_SEA.columns], \n",
    "#                line_color=['blue', 'red', 'green', 'yellow', 'black', 'purple', 'orange'], \n",
    "#                line_width=2)\n",
    "for col in lst_countries:    \n",
    "    if col in ['Singapore', 'Malaysia']:\n",
    "        co2.line(x='Year', y=col, source=source, line_width=2, \n",
    "                line_color=['blue', 'red', 'green', 'yellow', 'black', 'purple', 'orange'][lst_countries.index(col)],\n",
    "                legend_label=col)\n",
    "    else:\n",
    "        co2.line(x='Year', y=col, source=source, line_width=2, \n",
    "                line_color=['blue', 'red', 'green', 'yellow', 'black', 'purple', 'orange'][lst_countries.index(col)],\n",
    "                legend_label=col, alpha=0.5)\n",
    "        \n",
    "co2.title.text = 'CO2 emissions in SEA'\n",
    "co2.xaxis.axis_label = 'Year (1990-2015)'\n",
    "co2.yaxis.axis_label = 'CO2 emmissions (metric tons)'\n",
    "        \n",
    "output_notebook()\n",
    "\n",
    "show(co2)"
   ]
  },
  {
   "attachments": {},
   "cell_type": "markdown",
   "metadata": {},
   "source": [
    "Well, most countries have reduced their CO2 emissions since 1990, but I've noticed a trend in Singapore's emissions going down! Then, let's take a closer look at the case of Malaysia, where the trend of increase is the most obvious among countries where CO2 emissions are increasing."
   ]
  },
  {
   "attachments": {},
   "cell_type": "markdown",
   "metadata": {},
   "source": [
    "## Loading Malaysia Only Data and Adding CO2 emission per capita and GDP per capita columns"
   ]
  },
  {
   "cell_type": "code",
   "execution_count": 4,
   "metadata": {},
   "outputs": [],
   "source": [
    "### Make 3 df of Malaysia (CO2, GDP, POP)\n",
    "df_co2_mala = pd.DataFrame(df_co2_SEA.set_index('Year')['Malaysia']).rename(columns={'Malaysia':'CO2'})\n",
    "df_gdp_mala = pd.DataFrame(df_gdp_SEA.set_index('Year')['Malaysia']).rename(columns={'Malaysia':'GDP'})\n",
    "df_pop_mala = pd.DataFrame(df_pop_SEA.set_index('Year')['Malaysia']).rename(columns={'Malaysia':'POP'})\n",
    "\n",
    "### Concatenate 3 df into 1 df\n",
    "df_mala = pd.concat([df_co2_mala, df_gdp_mala, df_pop_mala], axis=1)\n",
    "\n",
    "### Calculate the per capita CO2 emissions\n",
    "df_mala['CO2_per_capita'] = df_mala['CO2'] / df_mala['POP']\n",
    "\n",
    "### Calculate the per capita GDP\n",
    "df_mala['GDP_per_capita'] = df_mala['GDP'] / df_mala['POP']\n"
   ]
  },
  {
   "attachments": {},
   "cell_type": "markdown",
   "metadata": {},
   "source": [
    "## Plotting the line chart of CO2 emission per capita and GDP per capita to check the correlation between them"
   ]
  },
  {
   "cell_type": "code",
   "execution_count": 5,
   "metadata": {},
   "outputs": [
    {
     "name": "stderr",
     "output_type": "stream",
     "text": [
      "BokehDeprecationWarning: 'legend' keyword is deprecated, use explicit 'legend_label', 'legend_field', or 'legend_group' keywords instead\n"
     ]
    },
    {
     "data": {
      "text/html": [
       "\n",
       "  <div class=\"bk-root\" id=\"67826572-ebe4-4761-9b1b-c3c2cd29bfca\" data-root-id=\"1386\"></div>\n"
      ]
     },
     "metadata": {},
     "output_type": "display_data"
    },
    {
     "data": {
      "application/javascript": "(function(root) {\n  function embed_document(root) {\n  const docs_json = {\"18de2b8d-77a3-4960-bcd4-772afcebd1be\":{\"defs\":[],\"roots\":{\"references\":[{\"attributes\":{\"below\":[{\"id\":\"1395\"}],\"center\":[{\"id\":\"1398\"},{\"id\":\"1402\"},{\"id\":\"1448\"}],\"extra_y_ranges\":{\"extra\":{\"id\":\"1450\"}},\"height\":400,\"left\":[{\"id\":\"1399\"}],\"renderers\":[{\"id\":\"1423\"},{\"id\":\"1456\"}],\"right\":[{\"id\":\"1451\"}],\"title\":{\"id\":\"1417\"},\"toolbar\":{\"id\":\"1410\"},\"width\":800,\"x_range\":{\"id\":\"1387\"},\"x_scale\":{\"id\":\"1391\"},\"y_range\":{\"id\":\"1418\"},\"y_scale\":{\"id\":\"1393\"}},\"id\":\"1386\",\"subtype\":\"Figure\",\"type\":\"Plot\"},{\"attributes\":{},\"id\":\"1408\",\"type\":\"HelpTool\"},{\"attributes\":{\"axis_label\":\"CO2 emmissions per capita (metric tons)\",\"coordinates\":null,\"formatter\":{\"id\":\"1428\"},\"group\":null,\"major_label_policy\":{\"id\":\"1429\"},\"ticker\":{\"id\":\"1400\"}},\"id\":\"1399\",\"type\":\"LinearAxis\"},{\"attributes\":{},\"id\":\"1393\",\"type\":\"LinearScale\"},{\"attributes\":{},\"id\":\"1432\",\"type\":\"AllLabels\"},{\"attributes\":{},\"id\":\"1391\",\"type\":\"LinearScale\"},{\"attributes\":{\"end\":0.001},\"id\":\"1450\",\"type\":\"Range1d\"},{\"attributes\":{\"line_alpha\":0.1,\"line_color\":\"green\",\"line_width\":2,\"x\":{\"field\":\"Year\"},\"y\":{\"field\":\"GDP_per_capita\"}},\"id\":\"1454\",\"type\":\"Line\"},{\"attributes\":{\"axis_label\":\"GDP per capita\",\"coordinates\":null,\"formatter\":{\"id\":\"1464\"},\"group\":null,\"major_label_policy\":{\"id\":\"1465\"},\"ticker\":{\"id\":\"1463\"},\"y_range_name\":\"extra\"},\"id\":\"1451\",\"type\":\"LinearAxis\"},{\"attributes\":{\"coordinates\":null,\"data_source\":{\"id\":\"1385\"},\"glyph\":{\"id\":\"1420\"},\"group\":null,\"hover_glyph\":null,\"muted_glyph\":{\"id\":\"1422\"},\"nonselection_glyph\":{\"id\":\"1421\"},\"view\":{\"id\":\"1424\"}},\"id\":\"1423\",\"type\":\"GlyphRenderer\"},{\"attributes\":{\"label\":{\"value\":\"GDP per capita\"},\"renderers\":[{\"id\":\"1456\"}]},\"id\":\"1484\",\"type\":\"LegendItem\"},{\"attributes\":{\"line_color\":\"green\",\"line_width\":2,\"x\":{\"field\":\"Year\"},\"y\":{\"field\":\"GDP_per_capita\"}},\"id\":\"1453\",\"type\":\"Line\"},{\"attributes\":{\"num_minor_ticks\":5,\"tickers\":[{\"id\":\"1436\"},{\"id\":\"1437\"},{\"id\":\"1438\"},{\"id\":\"1439\"},{\"id\":\"1440\"},{\"id\":\"1441\"},{\"id\":\"1442\"},{\"id\":\"1443\"},{\"id\":\"1444\"},{\"id\":\"1445\"},{\"id\":\"1446\"},{\"id\":\"1447\"}]},\"id\":\"1396\",\"type\":\"DatetimeTicker\"},{\"attributes\":{\"axis_label\":\"Year (1990-2015)\",\"coordinates\":null,\"formatter\":{\"id\":\"1431\"},\"group\":null,\"major_label_policy\":{\"id\":\"1432\"},\"ticker\":{\"id\":\"1396\"}},\"id\":\"1395\",\"type\":\"DatetimeAxis\"},{\"attributes\":{\"coordinates\":null,\"data_source\":{\"id\":\"1385\"},\"glyph\":{\"id\":\"1453\"},\"group\":null,\"hover_glyph\":null,\"muted_glyph\":{\"id\":\"1455\"},\"nonselection_glyph\":{\"id\":\"1454\"},\"view\":{\"id\":\"1457\"},\"y_range_name\":\"extra\"},\"id\":\"1456\",\"type\":\"GlyphRenderer\"},{\"attributes\":{},\"id\":\"1428\",\"type\":\"BasicTickFormatter\"},{\"attributes\":{\"source\":{\"id\":\"1385\"}},\"id\":\"1424\",\"type\":\"CDSView\"},{\"attributes\":{},\"id\":\"1464\",\"type\":\"BasicTickFormatter\"},{\"attributes\":{\"axis\":{\"id\":\"1395\"},\"coordinates\":null,\"group\":null,\"ticker\":null},\"id\":\"1398\",\"type\":\"Grid\"},{\"attributes\":{\"line_alpha\":0.2,\"line_color\":\"green\",\"line_width\":2,\"x\":{\"field\":\"Year\"},\"y\":{\"field\":\"GDP_per_capita\"}},\"id\":\"1455\",\"type\":\"Line\"},{\"attributes\":{\"data\":{\"CO2\":{\"__ndarray__\":\"XqbWL0M8CEAZ2rh4/B4MQMph75g0RwxAKx7TZgT9DUCObuCxke4PQMmIxvbl2RBAXexgmdfFEkBQZjiFzqoTQDCJ5sziHRNA0f71UawzFEDHZ353WnIVQIEteUJl1xVAfUVfQMqIFkBCZgyYemYXQPIYE0utIRlAvzVB4S0RGkA+YHQKA5QaQJsS568JbxxAViPp8d3MHUBFGRqTAD0aQOMDMLVUZBxAKZgn/wdOHEAYXmygLFIcQDcIqdDXWx5AoGjQBbuxH0AVDa1coEEfQA==\",\"dtype\":\"float64\",\"order\":\"little\",\"shape\":[26]},\"CO2_per_capita\":{\"__ndarray__\":\"SHFV5DmNhj4bCdTqj3mJPsnqd+pn94g+d64LqjHSiT7cGSbIC9GKPqrY0ohEmYs+t2dvaHv4jT7g9g8AzJqOPn7WUFZ3AY0+lOg11anpjT5E7FD4ugaPPo+bc24/6Y4+HJ/Vvew7jz5CvdARVMqPPiG81DTkvJA+RCClxegFkT5y4xnTogSRPhLEDfle2pE+1ClaM1Zbkj4OECHaXr6PPqRgFmb34pA+Oo78phOTkD5YJzHEkFiQPvqihk2oSJE+gGY+B8vNkT4ttwE2x1KRPg==\",\"dtype\":\"float64\",\"order\":\"little\",\"shape\":[26]},\"GDP\":{\"__ndarray__\":\"XWsv5nsTo0B0VgpmDbukQGFTMZZKU6hAQIvgWFPSqkALDfWQOCCtQJyxXj+16bBAcjP1nJy+skBu3vmb3R2yQHWfyXWrfqlAeEecGldJq0CpC6lqU5evQEBti9jbkq5AQJXt4blFsEBeZFLq2G2xQL5r88U2WLNA4eD2VwbTtUAyAHxMIEG4QEL74/B0S7xAgOTKO0uNwEAzao+2fny8QKG6bsRIqMFAXiMgY69PxEDTnUZCtyDFQJR8sFkNbcVAlgzP7YcbxkDJ/oARn3HDQA==\",\"dtype\":\"float64\",\"order\":\"little\",\"shape\":[26]},\"GDP_per_capita\":{\"__ndarray__\":\"tbXDLTXAIT8fJqC8qMciPxhKxdT/eSU/vPisoSgYJz/aZjoCxnUoP+S0iiQpsys/Hhh7U/DsLT9zMLI3GzEsP1Dp3aVwVyM/BxJNCpMzJD85+46w2NkmP2BiQKR/oiU/p/L82PiNJj/emwuIna0nPxF1EgNyxCk/IM+kEzKBLD/dQPTndA8vPzphL8MHxDE/7Z0es0tkND/BQUOOTjsxP1oxPBwJATU/NofB3ZXJNz8T9WWEeGM4P5O1Xvd8ZTg/s2TrtVnWOD9iU3s3io01Pw==\",\"dtype\":\"float64\",\"order\":\"little\",\"shape\":[26]},\"POP\":{\"__ndarray__\":\"AAAAANAxcUEAAABQeKlxQQAAAEBSH3JBAAAAUA6VckEAAABAUg1zQQAAAEDbiXNBAAAAMEELdEEAAABgWpB0QQAAAHAVF3VBAAAA0IqcdUEAAADAqB52QQAAALBbnHZBAAAAcEAWd0EAAABQ/I13QQAAAHAPBnhBAAAAcB+AeEEAAAAg9vx4QQAAAPCGe3lBAAAAMGr5eUEAAADgP3N6QQAAAMC55npBAAAAIN1Se0EAAADQubh7QQAAALCPGnxBAAAA4KZ7fEEAAABQX958QQ==\",\"dtype\":\"float64\",\"order\":\"little\",\"shape\":[26]},\"Year\":{\"__ndarray__\":\"AACA53JeYkIAAAANaUljQgAAgDJfNGRCAACAI/ofZUIAAABJ8ApmQgAAgG7m9WZCAAAAlNzgZ0IAAACFd8xoQgAAgKptt2lCAAAA0GOiakIAAID1WY1rQgAAgOb0eGxCAAAADOtjbUIAAIAx4U5uQgAAAFfXOW9CAAAAJLkScEIAAMA2NIhwQgAAgEmv/XBCAABAXCpzcUIAAMDU9+hxQgAAgOdyXnJCAABA+u3TckIAAAANaUlzQgAAgIU2v3NCAABAmLE0dEIAAACrLKp0Qg==\",\"dtype\":\"float64\",\"order\":\"little\",\"shape\":[26]}},\"selected\":{\"id\":\"1434\"},\"selection_policy\":{\"id\":\"1433\"}},\"id\":\"1385\",\"type\":\"ColumnDataSource\"},{\"attributes\":{},\"id\":\"1387\",\"type\":\"DataRange1d\"},{\"attributes\":{\"line_color\":\"orange\",\"line_width\":2,\"x\":{\"field\":\"Year\"},\"y\":{\"field\":\"CO2_per_capita\"}},\"id\":\"1420\",\"type\":\"Line\"},{\"attributes\":{\"source\":{\"id\":\"1385\"}},\"id\":\"1457\",\"type\":\"CDSView\"},{\"attributes\":{},\"id\":\"1429\",\"type\":\"AllLabels\"},{\"attributes\":{\"end\":5e-07},\"id\":\"1418\",\"type\":\"Range1d\"},{\"attributes\":{\"label\":{\"value\":\"CO2 per capita\"},\"renderers\":[{\"id\":\"1423\"}]},\"id\":\"1449\",\"type\":\"LegendItem\"},{\"attributes\":{\"mantissas\":[1,2,5],\"max_interval\":500.0,\"num_minor_ticks\":0},\"id\":\"1436\",\"type\":\"AdaptiveTicker\"},{\"attributes\":{\"coordinates\":null,\"group\":null,\"text\":\"CO2 emissions per capita in Malaysia\"},\"id\":\"1417\",\"type\":\"Title\"},{\"attributes\":{\"base\":60,\"mantissas\":[1,2,5,10,15,20,30],\"max_interval\":1800000.0,\"min_interval\":1000.0,\"num_minor_ticks\":0},\"id\":\"1437\",\"type\":\"AdaptiveTicker\"},{\"attributes\":{\"overlay\":{\"id\":\"1409\"}},\"id\":\"1405\",\"type\":\"BoxZoomTool\"},{\"attributes\":{\"coordinates\":null,\"group\":null,\"items\":[{\"id\":\"1449\"},{\"id\":\"1484\"}]},\"id\":\"1448\",\"type\":\"Legend\"},{\"attributes\":{\"days\":[1,2,3,4,5,6,7,8,9,10,11,12,13,14,15,16,17,18,19,20,21,22,23,24,25,26,27,28,29,30,31]},\"id\":\"1439\",\"type\":\"DaysTicker\"},{\"attributes\":{\"bottom_units\":\"screen\",\"coordinates\":null,\"fill_alpha\":0.5,\"fill_color\":\"lightgrey\",\"group\":null,\"left_units\":\"screen\",\"level\":\"overlay\",\"line_alpha\":1.0,\"line_color\":\"black\",\"line_dash\":[4,4],\"line_width\":2,\"right_units\":\"screen\",\"syncable\":false,\"top_units\":\"screen\"},\"id\":\"1409\",\"type\":\"BoxAnnotation\"},{\"attributes\":{\"base\":24,\"mantissas\":[1,2,4,6,8,12],\"max_interval\":43200000.0,\"min_interval\":3600000.0,\"num_minor_ticks\":0},\"id\":\"1438\",\"type\":\"AdaptiveTicker\"},{\"attributes\":{},\"id\":\"1463\",\"type\":\"BasicTicker\"},{\"attributes\":{\"months\":[0,1,2,3,4,5,6,7,8,9,10,11]},\"id\":\"1443\",\"type\":\"MonthsTicker\"},{\"attributes\":{},\"id\":\"1465\",\"type\":\"AllLabels\"},{\"attributes\":{\"months\":[0,2,4,6,8,10]},\"id\":\"1444\",\"type\":\"MonthsTicker\"},{\"attributes\":{},\"id\":\"1406\",\"type\":\"SaveTool\"},{\"attributes\":{},\"id\":\"1433\",\"type\":\"UnionRenderers\"},{\"attributes\":{\"days\":[1,4,7,10,13,16,19,22,25,28]},\"id\":\"1440\",\"type\":\"DaysTicker\"},{\"attributes\":{},\"id\":\"1407\",\"type\":\"ResetTool\"},{\"attributes\":{\"days\":[1,15]},\"id\":\"1442\",\"type\":\"DaysTicker\"},{\"attributes\":{\"line_alpha\":0.2,\"line_color\":\"orange\",\"line_width\":2,\"x\":{\"field\":\"Year\"},\"y\":{\"field\":\"CO2_per_capita\"}},\"id\":\"1422\",\"type\":\"Line\"},{\"attributes\":{\"months\":[0,6]},\"id\":\"1446\",\"type\":\"MonthsTicker\"},{\"attributes\":{\"axis\":{\"id\":\"1399\"},\"coordinates\":null,\"dimension\":1,\"group\":null,\"ticker\":null},\"id\":\"1402\",\"type\":\"Grid\"},{\"attributes\":{\"tools\":[{\"id\":\"1403\"},{\"id\":\"1404\"},{\"id\":\"1405\"},{\"id\":\"1406\"},{\"id\":\"1407\"},{\"id\":\"1408\"}]},\"id\":\"1410\",\"type\":\"Toolbar\"},{\"attributes\":{},\"id\":\"1434\",\"type\":\"Selection\"},{\"attributes\":{},\"id\":\"1404\",\"type\":\"WheelZoomTool\"},{\"attributes\":{},\"id\":\"1431\",\"type\":\"DatetimeTickFormatter\"},{\"attributes\":{\"days\":[1,8,15,22]},\"id\":\"1441\",\"type\":\"DaysTicker\"},{\"attributes\":{\"line_alpha\":0.1,\"line_color\":\"orange\",\"line_width\":2,\"x\":{\"field\":\"Year\"},\"y\":{\"field\":\"CO2_per_capita\"}},\"id\":\"1421\",\"type\":\"Line\"},{\"attributes\":{},\"id\":\"1403\",\"type\":\"PanTool\"},{\"attributes\":{\"months\":[0,4,8]},\"id\":\"1445\",\"type\":\"MonthsTicker\"},{\"attributes\":{},\"id\":\"1447\",\"type\":\"YearsTicker\"},{\"attributes\":{},\"id\":\"1400\",\"type\":\"BasicTicker\"}],\"root_ids\":[\"1386\"]},\"title\":\"Bokeh Application\",\"version\":\"2.4.3\"}};\n  const render_items = [{\"docid\":\"18de2b8d-77a3-4960-bcd4-772afcebd1be\",\"root_ids\":[\"1386\"],\"roots\":{\"1386\":\"67826572-ebe4-4761-9b1b-c3c2cd29bfca\"}}];\n  root.Bokeh.embed.embed_items_notebook(docs_json, render_items);\n  }\n  if (root.Bokeh !== undefined) {\n    embed_document(root);\n  } else {\n    let attempts = 0;\n    const timer = setInterval(function(root) {\n      if (root.Bokeh !== undefined) {\n        clearInterval(timer);\n        embed_document(root);\n      } else {\n        attempts++;\n        if (attempts > 100) {\n          clearInterval(timer);\n          console.log(\"Bokeh: ERROR: Unable to run BokehJS code because BokehJS library is missing\");\n        }\n      }\n    }, 10, root)\n  }\n})(window);",
      "application/vnd.bokehjs_exec.v0+json": ""
     },
     "metadata": {
      "application/vnd.bokehjs_exec.v0+json": {
       "id": "1386"
      }
     },
     "output_type": "display_data"
    }
   ],
   "source": [
    "### Make a line plot of CO2 emissions per capita in Malaysia\n",
    "source = ColumnDataSource(df_mala)\n",
    "\n",
    "co2_gdp = figure(x_axis_type='datetime', plot_width=800, plot_height=400)\n",
    "co2_gdp.title.text = 'CO2 emissions per capita in Malaysia'\n",
    "co2_gdp.xaxis.axis_label = 'Year (1990-2015)'\n",
    "co2_gdp.yaxis.axis_label = 'CO2 emmissions per capita (metric tons)'\n",
    "\n",
    "co2_gdp.y_range = Range1d(start=0, end=0.0000005)\n",
    "co2_gdp.line(x='Year', y='CO2_per_capita', source=source, line_width=2, line_color='orange', legend_label='CO2 per capita')\n",
    "\n",
    "### Make a line plot of GDP per capita in Malaysia\n",
    "co2_gdp.extra_y_ranges = {'extra': Range1d(start=0, end=0.001)}\n",
    "co2_gdp.add_layout(LinearAxis(y_range_name='extra', axis_label='GDP per capita'), 'right')\n",
    "co2_gdp.line(x='Year', y='GDP_per_capita', source=source, color='green', line_width=2, legend='GDP per capita', y_range_name='extra')\n",
    "\n",
    "show(co2_gdp)\n"
   ]
  },
  {
   "attachments": {},
   "cell_type": "markdown",
   "metadata": {},
   "source": [
    "The CO2 emission per capita data for Malaysia and the GDP emission per capita are exactly the same with increasing and decreasing trends! It can be said that the output of manufacturing complexes centered on Penang and Kulim in Malaysia is the trend of GDP growth. That is why GDP is similar to the flow of changes in CO2 emission."
   ]
  },
  {
   "attachments": {},
   "cell_type": "markdown",
   "metadata": {},
   "source": [
    "## Plotting the scatter chart (GDP per capita, CO2 per capita) and making a linear regression line chart"
   ]
  },
  {
   "cell_type": "code",
   "execution_count": 6,
   "metadata": {},
   "outputs": [],
   "source": [
    "from sklearn.preprocessing import PolynomialFeatures\n",
    "from sklearn.pipeline import make_pipeline\n",
    "from sklearn.linear_model import LinearRegression\n",
    "from scipy.interpolate import interp1d"
   ]
  },
  {
   "attachments": {},
   "cell_type": "markdown",
   "metadata": {},
   "source": [
    "There seems to be a correlation between GDP and CO2 emission through the scatter plot. Let's mark the linear regression line."
   ]
  },
  {
   "cell_type": "code",
   "execution_count": 7,
   "metadata": {},
   "outputs": [
    {
     "name": "stdout",
     "output_type": "stream",
     "text": [
      "The linear regression model is: y = 0.00024682587366185423x + 1.7372116084059038e-07\n"
     ]
    },
    {
     "data": {
      "text/html": [
       "\n",
       "  <div class=\"bk-root\" id=\"a23ce242-dae7-41be-8fbd-1e1b819077f9\" data-root-id=\"1664\"></div>\n"
      ]
     },
     "metadata": {},
     "output_type": "display_data"
    },
    {
     "data": {
      "application/javascript": "(function(root) {\n  function embed_document(root) {\n  const docs_json = {\"e7b05c5a-af91-482d-be34-1c884c0d6cd0\":{\"defs\":[],\"roots\":{\"references\":[{\"attributes\":{\"below\":[{\"id\":\"1673\"}],\"center\":[{\"id\":\"1676\"},{\"id\":\"1680\"},{\"id\":\"1712\"}],\"height\":400,\"left\":[{\"id\":\"1677\"}],\"renderers\":[{\"id\":\"1699\"},{\"id\":\"1718\"}],\"title\":{\"id\":\"1701\"},\"toolbar\":{\"id\":\"1688\"},\"width\":800,\"x_range\":{\"id\":\"1665\"},\"x_scale\":{\"id\":\"1669\"},\"y_range\":{\"id\":\"1667\"},\"y_scale\":{\"id\":\"1671\"}},\"id\":\"1664\",\"subtype\":\"Figure\",\"type\":\"Plot\"},{\"attributes\":{},\"id\":\"1671\",\"type\":\"LinearScale\"},{\"attributes\":{},\"id\":\"1731\",\"type\":\"Selection\"},{\"attributes\":{\"coordinates\":null,\"data_source\":{\"id\":\"1385\"},\"glyph\":{\"id\":\"1696\"},\"group\":null,\"hover_glyph\":null,\"muted_glyph\":{\"id\":\"1698\"},\"nonselection_glyph\":{\"id\":\"1697\"},\"view\":{\"id\":\"1700\"}},\"id\":\"1699\",\"type\":\"GlyphRenderer\"},{\"attributes\":{},\"id\":\"1730\",\"type\":\"UnionRenderers\"},{\"attributes\":{\"axis_label\":\"GDP per capita\",\"coordinates\":null,\"formatter\":{\"id\":\"1707\"},\"group\":null,\"major_label_policy\":{\"id\":\"1708\"},\"ticker\":{\"id\":\"1674\"}},\"id\":\"1673\",\"type\":\"LinearAxis\"},{\"attributes\":{\"coordinates\":null,\"group\":null,\"items\":[{\"id\":\"1713\"},{\"id\":\"1733\"}]},\"id\":\"1712\",\"type\":\"Legend\"},{\"attributes\":{\"data\":{\"x\":{\"__ndarray__\":\"tbXDLTXAIT8fJqC8qMciPxhKxdT/eSU/vPisoSgYJz/aZjoCxnUoP+S0iiQpsys/Hhh7U/DsLT9zMLI3GzEsP1Dp3aVwVyM/BxJNCpMzJD85+46w2NkmP2BiQKR/oiU/p/L82PiNJj/emwuIna0nPxF1EgNyxCk/IM+kEzKBLD/dQPTndA8vPzphL8MHxDE/7Z0es0tkND/BQUOOTjsxP1oxPBwJATU/NofB3ZXJNz8T9WWEeGM4P5O1Xvd8ZTg/s2TrtVnWOD9iU3s3io01Pw==\",\"dtype\":\"float64\",\"order\":\"little\",\"shape\":[26]},\"y\":{\"__ndarray__\":\"gSxojY/Niz7sWx3kJRCMPiyyNZyhvow++GWbWE8njT7WyLfKrH+NPmMzL2ZNUY4+LYgyRlDhjj70gt+SInGOPmYkURR9NIw+piCDoiBsjD5YX2h/jxeNPoBBNRLeyIw+KxOmIGIEjT6xxeHGFU2NPlo0I2BD1I0+oiNFqmCFjj6BRszrvSqPPggtzSQFJpA+A+KvWe/PkD5TInWZdgOQPi9CHgmN95A+/InRzaWrkT7H0jvKitKRPikzhFIN05E+RBpj9JPvkT5WcF43EBuRPg==\",\"dtype\":\"float64\",\"order\":\"little\",\"shape\":[26]}},\"selected\":{\"id\":\"1731\"},\"selection_policy\":{\"id\":\"1730\"}},\"id\":\"1714\",\"type\":\"ColumnDataSource\"},{\"attributes\":{},\"id\":\"1665\",\"type\":\"DataRange1d\"},{\"attributes\":{\"fill_color\":{\"value\":\"blue\"},\"hatch_color\":{\"value\":\"blue\"},\"line_color\":{\"value\":\"blue\"},\"x\":{\"field\":\"GDP_per_capita\"},\"y\":{\"field\":\"CO2_per_capita\"}},\"id\":\"1696\",\"type\":\"Scatter\"},{\"attributes\":{\"axis_label\":\"CO2 per capita\",\"coordinates\":null,\"formatter\":{\"id\":\"1704\"},\"group\":null,\"major_label_policy\":{\"id\":\"1705\"},\"ticker\":{\"id\":\"1678\"}},\"id\":\"1677\",\"type\":\"LinearAxis\"},{\"attributes\":{},\"id\":\"1667\",\"type\":\"DataRange1d\"},{\"attributes\":{\"coordinates\":null,\"data_source\":{\"id\":\"1714\"},\"glyph\":{\"id\":\"1715\"},\"group\":null,\"hover_glyph\":null,\"muted_glyph\":{\"id\":\"1717\"},\"nonselection_glyph\":{\"id\":\"1716\"},\"view\":{\"id\":\"1719\"}},\"id\":\"1718\",\"type\":\"GlyphRenderer\"},{\"attributes\":{},\"id\":\"1669\",\"type\":\"LinearScale\"},{\"attributes\":{},\"id\":\"1686\",\"type\":\"HelpTool\"},{\"attributes\":{},\"id\":\"1704\",\"type\":\"BasicTickFormatter\"},{\"attributes\":{},\"id\":\"1674\",\"type\":\"BasicTicker\"},{\"attributes\":{\"source\":{\"id\":\"1385\"}},\"id\":\"1700\",\"type\":\"CDSView\"},{\"attributes\":{\"axis\":{\"id\":\"1673\"},\"coordinates\":null,\"group\":null,\"ticker\":null},\"id\":\"1676\",\"type\":\"Grid\"},{\"attributes\":{},\"id\":\"1705\",\"type\":\"AllLabels\"},{\"attributes\":{\"data\":{\"CO2\":{\"__ndarray__\":\"XqbWL0M8CEAZ2rh4/B4MQMph75g0RwxAKx7TZgT9DUCObuCxke4PQMmIxvbl2RBAXexgmdfFEkBQZjiFzqoTQDCJ5sziHRNA0f71UawzFEDHZ353WnIVQIEteUJl1xVAfUVfQMqIFkBCZgyYemYXQPIYE0utIRlAvzVB4S0RGkA+YHQKA5QaQJsS568JbxxAViPp8d3MHUBFGRqTAD0aQOMDMLVUZBxAKZgn/wdOHEAYXmygLFIcQDcIqdDXWx5AoGjQBbuxH0AVDa1coEEfQA==\",\"dtype\":\"float64\",\"order\":\"little\",\"shape\":[26]},\"CO2_per_capita\":{\"__ndarray__\":\"SHFV5DmNhj4bCdTqj3mJPsnqd+pn94g+d64LqjHSiT7cGSbIC9GKPqrY0ohEmYs+t2dvaHv4jT7g9g8AzJqOPn7WUFZ3AY0+lOg11anpjT5E7FD4ugaPPo+bc24/6Y4+HJ/Vvew7jz5CvdARVMqPPiG81DTkvJA+RCClxegFkT5y4xnTogSRPhLEDfle2pE+1ClaM1Zbkj4OECHaXr6PPqRgFmb34pA+Oo78phOTkD5YJzHEkFiQPvqihk2oSJE+gGY+B8vNkT4ttwE2x1KRPg==\",\"dtype\":\"float64\",\"order\":\"little\",\"shape\":[26]},\"GDP\":{\"__ndarray__\":\"XWsv5nsTo0B0VgpmDbukQGFTMZZKU6hAQIvgWFPSqkALDfWQOCCtQJyxXj+16bBAcjP1nJy+skBu3vmb3R2yQHWfyXWrfqlAeEecGldJq0CpC6lqU5evQEBti9jbkq5AQJXt4blFsEBeZFLq2G2xQL5r88U2WLNA4eD2VwbTtUAyAHxMIEG4QEL74/B0S7xAgOTKO0uNwEAzao+2fny8QKG6bsRIqMFAXiMgY69PxEDTnUZCtyDFQJR8sFkNbcVAlgzP7YcbxkDJ/oARn3HDQA==\",\"dtype\":\"float64\",\"order\":\"little\",\"shape\":[26]},\"GDP_per_capita\":{\"__ndarray__\":\"tbXDLTXAIT8fJqC8qMciPxhKxdT/eSU/vPisoSgYJz/aZjoCxnUoP+S0iiQpsys/Hhh7U/DsLT9zMLI3GzEsP1Dp3aVwVyM/BxJNCpMzJD85+46w2NkmP2BiQKR/oiU/p/L82PiNJj/emwuIna0nPxF1EgNyxCk/IM+kEzKBLD/dQPTndA8vPzphL8MHxDE/7Z0es0tkND/BQUOOTjsxP1oxPBwJATU/NofB3ZXJNz8T9WWEeGM4P5O1Xvd8ZTg/s2TrtVnWOD9iU3s3io01Pw==\",\"dtype\":\"float64\",\"order\":\"little\",\"shape\":[26]},\"POP\":{\"__ndarray__\":\"AAAAANAxcUEAAABQeKlxQQAAAEBSH3JBAAAAUA6VckEAAABAUg1zQQAAAEDbiXNBAAAAMEELdEEAAABgWpB0QQAAAHAVF3VBAAAA0IqcdUEAAADAqB52QQAAALBbnHZBAAAAcEAWd0EAAABQ/I13QQAAAHAPBnhBAAAAcB+AeEEAAAAg9vx4QQAAAPCGe3lBAAAAMGr5eUEAAADgP3N6QQAAAMC55npBAAAAIN1Se0EAAADQubh7QQAAALCPGnxBAAAA4KZ7fEEAAABQX958QQ==\",\"dtype\":\"float64\",\"order\":\"little\",\"shape\":[26]},\"Year\":{\"__ndarray__\":\"AACA53JeYkIAAAANaUljQgAAgDJfNGRCAACAI/ofZUIAAABJ8ApmQgAAgG7m9WZCAAAAlNzgZ0IAAACFd8xoQgAAgKptt2lCAAAA0GOiakIAAID1WY1rQgAAgOb0eGxCAAAADOtjbUIAAIAx4U5uQgAAAFfXOW9CAAAAJLkScEIAAMA2NIhwQgAAgEmv/XBCAABAXCpzcUIAAMDU9+hxQgAAgOdyXnJCAABA+u3TckIAAAANaUlzQgAAgIU2v3NCAABAmLE0dEIAAACrLKp0Qg==\",\"dtype\":\"float64\",\"order\":\"little\",\"shape\":[26]}},\"selected\":{\"id\":\"1434\"},\"selection_policy\":{\"id\":\"1433\"}},\"id\":\"1385\",\"type\":\"ColumnDataSource\"},{\"attributes\":{\"axis\":{\"id\":\"1677\"},\"coordinates\":null,\"dimension\":1,\"group\":null,\"ticker\":null},\"id\":\"1680\",\"type\":\"Grid\"},{\"attributes\":{\"label\":{\"value\":\"Data\"},\"renderers\":[{\"id\":\"1699\"}]},\"id\":\"1713\",\"type\":\"LegendItem\"},{\"attributes\":{},\"id\":\"1678\",\"type\":\"BasicTicker\"},{\"attributes\":{},\"id\":\"1707\",\"type\":\"BasicTickFormatter\"},{\"attributes\":{},\"id\":\"1682\",\"type\":\"WheelZoomTool\"},{\"attributes\":{},\"id\":\"1708\",\"type\":\"AllLabels\"},{\"attributes\":{\"coordinates\":null,\"group\":null,\"text\":\"Correlation between CO2 per capita and GDP per capita\"},\"id\":\"1701\",\"type\":\"Title\"},{\"attributes\":{},\"id\":\"1681\",\"type\":\"PanTool\"},{\"attributes\":{\"source\":{\"id\":\"1714\"}},\"id\":\"1719\",\"type\":\"CDSView\"},{\"attributes\":{\"line_alpha\":0.2,\"line_color\":\"orange\",\"line_width\":2,\"x\":{\"field\":\"x\"},\"y\":{\"field\":\"y\"}},\"id\":\"1717\",\"type\":\"Line\"},{\"attributes\":{},\"id\":\"1684\",\"type\":\"SaveTool\"},{\"attributes\":{\"fill_alpha\":{\"value\":0.1},\"fill_color\":{\"value\":\"blue\"},\"hatch_alpha\":{\"value\":0.1},\"hatch_color\":{\"value\":\"blue\"},\"line_alpha\":{\"value\":0.1},\"line_color\":{\"value\":\"blue\"},\"x\":{\"field\":\"GDP_per_capita\"},\"y\":{\"field\":\"CO2_per_capita\"}},\"id\":\"1697\",\"type\":\"Scatter\"},{\"attributes\":{\"callback\":null,\"tooltips\":[[\"GDP per capita\",\"@GDP_per_capita\"],[\"CO2 per capita\",\"@CO2_per_capita\"]]},\"id\":\"1735\",\"type\":\"HoverTool\"},{\"attributes\":{},\"id\":\"1433\",\"type\":\"UnionRenderers\"},{\"attributes\":{},\"id\":\"1685\",\"type\":\"ResetTool\"},{\"attributes\":{\"label\":{\"value\":\"Linear Regression Model\"},\"renderers\":[{\"id\":\"1718\"}]},\"id\":\"1733\",\"type\":\"LegendItem\"},{\"attributes\":{\"line_color\":\"orange\",\"line_width\":2,\"x\":{\"field\":\"x\"},\"y\":{\"field\":\"y\"}},\"id\":\"1715\",\"type\":\"Line\"},{\"attributes\":{},\"id\":\"1434\",\"type\":\"Selection\"},{\"attributes\":{\"bottom_units\":\"screen\",\"coordinates\":null,\"fill_alpha\":0.5,\"fill_color\":\"lightgrey\",\"group\":null,\"left_units\":\"screen\",\"level\":\"overlay\",\"line_alpha\":1.0,\"line_color\":\"black\",\"line_dash\":[4,4],\"line_width\":2,\"right_units\":\"screen\",\"syncable\":false,\"top_units\":\"screen\"},\"id\":\"1687\",\"type\":\"BoxAnnotation\"},{\"attributes\":{\"line_alpha\":0.1,\"line_color\":\"orange\",\"line_width\":2,\"x\":{\"field\":\"x\"},\"y\":{\"field\":\"y\"}},\"id\":\"1716\",\"type\":\"Line\"},{\"attributes\":{\"tools\":[{\"id\":\"1681\"},{\"id\":\"1682\"},{\"id\":\"1683\"},{\"id\":\"1684\"},{\"id\":\"1685\"},{\"id\":\"1686\"},{\"id\":\"1735\"}]},\"id\":\"1688\",\"type\":\"Toolbar\"},{\"attributes\":{\"overlay\":{\"id\":\"1687\"}},\"id\":\"1683\",\"type\":\"BoxZoomTool\"},{\"attributes\":{\"fill_alpha\":{\"value\":0.2},\"fill_color\":{\"value\":\"blue\"},\"hatch_alpha\":{\"value\":0.2},\"hatch_color\":{\"value\":\"blue\"},\"line_alpha\":{\"value\":0.2},\"line_color\":{\"value\":\"blue\"},\"x\":{\"field\":\"GDP_per_capita\"},\"y\":{\"field\":\"CO2_per_capita\"}},\"id\":\"1698\",\"type\":\"Scatter\"}],\"root_ids\":[\"1664\"]},\"title\":\"Bokeh Application\",\"version\":\"2.4.3\"}};\n  const render_items = [{\"docid\":\"e7b05c5a-af91-482d-be34-1c884c0d6cd0\",\"root_ids\":[\"1664\"],\"roots\":{\"1664\":\"a23ce242-dae7-41be-8fbd-1e1b819077f9\"}}];\n  root.Bokeh.embed.embed_items_notebook(docs_json, render_items);\n  }\n  if (root.Bokeh !== undefined) {\n    embed_document(root);\n  } else {\n    let attempts = 0;\n    const timer = setInterval(function(root) {\n      if (root.Bokeh !== undefined) {\n        clearInterval(timer);\n        embed_document(root);\n      } else {\n        attempts++;\n        if (attempts > 100) {\n          clearInterval(timer);\n          console.log(\"Bokeh: ERROR: Unable to run BokehJS code because BokehJS library is missing\");\n        }\n      }\n    }, 10, root)\n  }\n})(window);",
      "application/vnd.bokehjs_exec.v0+json": ""
     },
     "metadata": {
      "application/vnd.bokehjs_exec.v0+json": {
       "id": "1664"
      }
     },
     "output_type": "display_data"
    }
   ],
   "source": [
    "### Make Linear Regression Model for CO2 emissions per capita in Malaysia\n",
    "X = df_mala['GDP_per_capita'].values.reshape(-1, 1)\n",
    "y = df_mala['CO2_per_capita'].values.reshape(-1, 1)\n",
    "\n",
    "model = LinearRegression().fit(X, y)\n",
    "coefficients = model.coef_\n",
    "intercept = model.intercept_\n",
    "linear_model = model.predict(X)\n",
    "print('The linear regression model is: y = {}x + {}'.format(coefficients[0][0], intercept[0]))\n",
    "\n",
    "### Make scatter plot of CO2 per capita vs GDP per capita\n",
    "sct = figure(plot_width=800, plot_height=400)\n",
    "sct.scatter(x='GDP_per_capita', y='CO2_per_capita', source=source, color='blue', legend_label='Data')\n",
    "sct.line(x=X[:,0], y=linear_model[:,0], line_width=2, line_color='orange', legend_label='Linear Regression Model')\n",
    "sct.title.text = 'Correlation between CO2 per capita and GDP per capita'\n",
    "sct.xaxis.axis_label = 'GDP per capita'\n",
    "sct.yaxis.axis_label = 'CO2 per capita'\n",
    "\n",
    "hover = HoverTool()\n",
    "hover.tooltips = [\n",
    "    ('GDP per capita', '@GDP_per_capita'),\n",
    "    ('CO2 per capita', '@CO2_per_capita')\n",
    "]\n",
    "\n",
    "sct.add_tools(hover)\n",
    "\n",
    "show(sct)"
   ]
  },
  {
   "attachments": {},
   "cell_type": "markdown",
   "metadata": {},
   "source": [
    "Hmm, looking at the scatter plot and line together, I think this data is more suitable for a quadratic or cubic model. I'll give it a try."
   ]
  },
  {
   "cell_type": "code",
   "execution_count": 8,
   "metadata": {},
   "outputs": [
    {
     "name": "stdout",
     "output_type": "stream",
     "text": [
      "The quadratic regression model is: y = -1.8607373568468284x^2 + 0.0012103127638880581x + 0.0\n",
      "The cubic regression model is: y = 2954.747466355156x^3 + -4.123637641430063x^2 + 0.0017568582174247607x + 0.0\n"
     ]
    },
    {
     "data": {
      "text/html": [
       "\n",
       "  <div class=\"bk-root\" id=\"4660f811-783e-47b9-b7aa-f237e48912cf\" data-root-id=\"1864\"></div>\n"
      ]
     },
     "metadata": {},
     "output_type": "display_data"
    },
    {
     "data": {
      "application/javascript": "(function(root) {\n  function embed_document(root) {\n  const docs_json = {\"ef80fc3e-0a97-4c55-86a1-ac2d7350a202\":{\"defs\":[],\"roots\":{\"references\":[{\"attributes\":{\"below\":[{\"id\":\"1873\"}],\"center\":[{\"id\":\"1876\"},{\"id\":\"1880\"},{\"id\":\"1912\"}],\"height\":400,\"left\":[{\"id\":\"1877\"}],\"renderers\":[{\"id\":\"1899\"},{\"id\":\"1918\"},{\"id\":\"1938\"},{\"id\":\"1960\"}],\"title\":{\"id\":\"1901\"},\"toolbar\":{\"id\":\"1888\"},\"width\":800,\"x_range\":{\"id\":\"1865\"},\"x_scale\":{\"id\":\"1869\"},\"y_range\":{\"id\":\"1867\"},\"y_scale\":{\"id\":\"1871\"}},\"id\":\"1864\",\"subtype\":\"Figure\",\"type\":\"Plot\"},{\"attributes\":{},\"id\":\"1953\",\"type\":\"Selection\"},{\"attributes\":{\"label\":{\"value\":\"Quadratic Regression Model\"},\"renderers\":[{\"id\":\"1938\"}]},\"id\":\"1955\",\"type\":\"LegendItem\"},{\"attributes\":{},\"id\":\"1931\",\"type\":\"Selection\"},{\"attributes\":{\"line_alpha\":0.2,\"line_color\":\"green\",\"line_width\":2,\"x\":{\"field\":\"x\"},\"y\":{\"field\":\"y\"}},\"id\":\"1937\",\"type\":\"Line\"},{\"attributes\":{\"axis_label\":\"CO2 per capita\",\"coordinates\":null,\"formatter\":{\"id\":\"1904\"},\"group\":null,\"major_label_policy\":{\"id\":\"1905\"},\"ticker\":{\"id\":\"1878\"}},\"id\":\"1877\",\"type\":\"LinearAxis\"},{\"attributes\":{\"label\":{\"value\":\"Linear Regression Model\"},\"renderers\":[{\"id\":\"1918\"}]},\"id\":\"1933\",\"type\":\"LegendItem\"},{\"attributes\":{\"data\":{\"x\":{\"__ndarray__\":\"tbXDLTXAIT8fJqC8qMciPxhKxdT/eSU/vPisoSgYJz/aZjoCxnUoP+S0iiQpsys/Hhh7U/DsLT9zMLI3GzEsP1Dp3aVwVyM/BxJNCpMzJD85+46w2NkmP2BiQKR/oiU/p/L82PiNJj/emwuIna0nPxF1EgNyxCk/IM+kEzKBLD/dQPTndA8vPzphL8MHxDE/7Z0es0tkND/BQUOOTjsxP1oxPBwJATU/NofB3ZXJNz8T9WWEeGM4P5O1Xvd8ZTg/s2TrtVnWOD9iU3s3io01Pw==\",\"dtype\":\"float64\",\"order\":\"little\",\"shape\":[26]},\"y\":{\"__ndarray__\":\"gSxojY/Niz7sWx3kJRCMPiyyNZyhvow++GWbWE8njT7WyLfKrH+NPmMzL2ZNUY4+LYgyRlDhjj70gt+SInGOPmYkURR9NIw+piCDoiBsjD5YX2h/jxeNPoBBNRLeyIw+KxOmIGIEjT6xxeHGFU2NPlo0I2BD1I0+oiNFqmCFjj6BRszrvSqPPggtzSQFJpA+A+KvWe/PkD5TInWZdgOQPi9CHgmN95A+/InRzaWrkT7H0jvKitKRPikzhFIN05E+RBpj9JPvkT5WcF43EBuRPg==\",\"dtype\":\"float64\",\"order\":\"little\",\"shape\":[26]}},\"selected\":{\"id\":\"1931\"},\"selection_policy\":{\"id\":\"1930\"}},\"id\":\"1914\",\"type\":\"ColumnDataSource\"},{\"attributes\":{},\"id\":\"1867\",\"type\":\"DataRange1d\"},{\"attributes\":{\"label\":{\"value\":\"Data\"},\"renderers\":[{\"id\":\"1899\"}]},\"id\":\"1913\",\"type\":\"LegendItem\"},{\"attributes\":{\"axis_label\":\"GDP per capita\",\"coordinates\":null,\"formatter\":{\"id\":\"1907\"},\"group\":null,\"major_label_policy\":{\"id\":\"1908\"},\"ticker\":{\"id\":\"1874\"}},\"id\":\"1873\",\"type\":\"LinearAxis\"},{\"attributes\":{},\"id\":\"1930\",\"type\":\"UnionRenderers\"},{\"attributes\":{},\"id\":\"1865\",\"type\":\"DataRange1d\"},{\"attributes\":{\"axis\":{\"id\":\"1873\"},\"coordinates\":null,\"group\":null,\"ticker\":null},\"id\":\"1876\",\"type\":\"Grid\"},{\"attributes\":{\"coordinates\":null,\"data_source\":{\"id\":\"1385\"},\"glyph\":{\"id\":\"1896\"},\"group\":null,\"hover_glyph\":null,\"muted_glyph\":{\"id\":\"1898\"},\"nonselection_glyph\":{\"id\":\"1897\"},\"view\":{\"id\":\"1900\"}},\"id\":\"1899\",\"type\":\"GlyphRenderer\"},{\"attributes\":{},\"id\":\"1874\",\"type\":\"BasicTicker\"},{\"attributes\":{\"coordinates\":null,\"data_source\":{\"id\":\"1914\"},\"glyph\":{\"id\":\"1915\"},\"group\":null,\"hover_glyph\":null,\"muted_glyph\":{\"id\":\"1917\"},\"nonselection_glyph\":{\"id\":\"1916\"},\"view\":{\"id\":\"1919\"}},\"id\":\"1918\",\"type\":\"GlyphRenderer\"},{\"attributes\":{},\"id\":\"1904\",\"type\":\"BasicTickFormatter\"},{\"attributes\":{\"axis\":{\"id\":\"1877\"},\"coordinates\":null,\"dimension\":1,\"group\":null,\"ticker\":null},\"id\":\"1880\",\"type\":\"Grid\"},{\"attributes\":{},\"id\":\"1905\",\"type\":\"AllLabels\"},{\"attributes\":{\"data\":{\"CO2\":{\"__ndarray__\":\"XqbWL0M8CEAZ2rh4/B4MQMph75g0RwxAKx7TZgT9DUCObuCxke4PQMmIxvbl2RBAXexgmdfFEkBQZjiFzqoTQDCJ5sziHRNA0f71UawzFEDHZ353WnIVQIEteUJl1xVAfUVfQMqIFkBCZgyYemYXQPIYE0utIRlAvzVB4S0RGkA+YHQKA5QaQJsS568JbxxAViPp8d3MHUBFGRqTAD0aQOMDMLVUZBxAKZgn/wdOHEAYXmygLFIcQDcIqdDXWx5AoGjQBbuxH0AVDa1coEEfQA==\",\"dtype\":\"float64\",\"order\":\"little\",\"shape\":[26]},\"CO2_per_capita\":{\"__ndarray__\":\"SHFV5DmNhj4bCdTqj3mJPsnqd+pn94g+d64LqjHSiT7cGSbIC9GKPqrY0ohEmYs+t2dvaHv4jT7g9g8AzJqOPn7WUFZ3AY0+lOg11anpjT5E7FD4ugaPPo+bc24/6Y4+HJ/Vvew7jz5CvdARVMqPPiG81DTkvJA+RCClxegFkT5y4xnTogSRPhLEDfle2pE+1ClaM1Zbkj4OECHaXr6PPqRgFmb34pA+Oo78phOTkD5YJzHEkFiQPvqihk2oSJE+gGY+B8vNkT4ttwE2x1KRPg==\",\"dtype\":\"float64\",\"order\":\"little\",\"shape\":[26]},\"GDP\":{\"__ndarray__\":\"XWsv5nsTo0B0VgpmDbukQGFTMZZKU6hAQIvgWFPSqkALDfWQOCCtQJyxXj+16bBAcjP1nJy+skBu3vmb3R2yQHWfyXWrfqlAeEecGldJq0CpC6lqU5evQEBti9jbkq5AQJXt4blFsEBeZFLq2G2xQL5r88U2WLNA4eD2VwbTtUAyAHxMIEG4QEL74/B0S7xAgOTKO0uNwEAzao+2fny8QKG6bsRIqMFAXiMgY69PxEDTnUZCtyDFQJR8sFkNbcVAlgzP7YcbxkDJ/oARn3HDQA==\",\"dtype\":\"float64\",\"order\":\"little\",\"shape\":[26]},\"GDP_per_capita\":{\"__ndarray__\":\"tbXDLTXAIT8fJqC8qMciPxhKxdT/eSU/vPisoSgYJz/aZjoCxnUoP+S0iiQpsys/Hhh7U/DsLT9zMLI3GzEsP1Dp3aVwVyM/BxJNCpMzJD85+46w2NkmP2BiQKR/oiU/p/L82PiNJj/emwuIna0nPxF1EgNyxCk/IM+kEzKBLD/dQPTndA8vPzphL8MHxDE/7Z0es0tkND/BQUOOTjsxP1oxPBwJATU/NofB3ZXJNz8T9WWEeGM4P5O1Xvd8ZTg/s2TrtVnWOD9iU3s3io01Pw==\",\"dtype\":\"float64\",\"order\":\"little\",\"shape\":[26]},\"POP\":{\"__ndarray__\":\"AAAAANAxcUEAAABQeKlxQQAAAEBSH3JBAAAAUA6VckEAAABAUg1zQQAAAEDbiXNBAAAAMEELdEEAAABgWpB0QQAAAHAVF3VBAAAA0IqcdUEAAADAqB52QQAAALBbnHZBAAAAcEAWd0EAAABQ/I13QQAAAHAPBnhBAAAAcB+AeEEAAAAg9vx4QQAAAPCGe3lBAAAAMGr5eUEAAADgP3N6QQAAAMC55npBAAAAIN1Se0EAAADQubh7QQAAALCPGnxBAAAA4KZ7fEEAAABQX958QQ==\",\"dtype\":\"float64\",\"order\":\"little\",\"shape\":[26]},\"Year\":{\"__ndarray__\":\"AACA53JeYkIAAAANaUljQgAAgDJfNGRCAACAI/ofZUIAAABJ8ApmQgAAgG7m9WZCAAAAlNzgZ0IAAACFd8xoQgAAgKptt2lCAAAA0GOiakIAAID1WY1rQgAAgOb0eGxCAAAADOtjbUIAAIAx4U5uQgAAAFfXOW9CAAAAJLkScEIAAMA2NIhwQgAAgEmv/XBCAABAXCpzcUIAAMDU9+hxQgAAgOdyXnJCAABA+u3TckIAAAANaUlzQgAAgIU2v3NCAABAmLE0dEIAAACrLKp0Qg==\",\"dtype\":\"float64\",\"order\":\"little\",\"shape\":[26]}},\"selected\":{\"id\":\"1434\"},\"selection_policy\":{\"id\":\"1433\"}},\"id\":\"1385\",\"type\":\"ColumnDataSource\"},{\"attributes\":{\"line_alpha\":0.1,\"line_color\":\"green\",\"line_width\":2,\"x\":{\"field\":\"x\"},\"y\":{\"field\":\"y\"}},\"id\":\"1936\",\"type\":\"Line\"},{\"attributes\":{},\"id\":\"1882\",\"type\":\"WheelZoomTool\"},{\"attributes\":{},\"id\":\"1907\",\"type\":\"BasicTickFormatter\"},{\"attributes\":{\"label\":{\"value\":\"Cubic Regression Model\"},\"renderers\":[{\"id\":\"1960\"}]},\"id\":\"1979\",\"type\":\"LegendItem\"},{\"attributes\":{\"fill_color\":{\"value\":\"blue\"},\"hatch_color\":{\"value\":\"blue\"},\"line_color\":{\"value\":\"blue\"},\"x\":{\"field\":\"GDP_per_capita\"},\"y\":{\"field\":\"CO2_per_capita\"}},\"id\":\"1896\",\"type\":\"Scatter\"},{\"attributes\":{\"tools\":[{\"id\":\"1881\"},{\"id\":\"1882\"},{\"id\":\"1883\"},{\"id\":\"1884\"},{\"id\":\"1885\"},{\"id\":\"1886\"}]},\"id\":\"1888\",\"type\":\"Toolbar\"},{\"attributes\":{},\"id\":\"1886\",\"type\":\"HelpTool\"},{\"attributes\":{\"fill_alpha\":{\"value\":0.1},\"fill_color\":{\"value\":\"blue\"},\"hatch_alpha\":{\"value\":0.1},\"hatch_color\":{\"value\":\"blue\"},\"line_alpha\":{\"value\":0.1},\"line_color\":{\"value\":\"blue\"},\"x\":{\"field\":\"GDP_per_capita\"},\"y\":{\"field\":\"CO2_per_capita\"}},\"id\":\"1897\",\"type\":\"Scatter\"},{\"attributes\":{},\"id\":\"1881\",\"type\":\"PanTool\"},{\"attributes\":{\"coordinates\":null,\"group\":null,\"items\":[{\"id\":\"1913\"},{\"id\":\"1933\"},{\"id\":\"1955\"},{\"id\":\"1979\"}]},\"id\":\"1912\",\"type\":\"Legend\"},{\"attributes\":{},\"id\":\"1908\",\"type\":\"AllLabels\"},{\"attributes\":{\"line_color\":\"green\",\"line_width\":2,\"x\":{\"field\":\"x\"},\"y\":{\"field\":\"y\"}},\"id\":\"1935\",\"type\":\"Line\"},{\"attributes\":{\"fill_alpha\":{\"value\":0.2},\"fill_color\":{\"value\":\"blue\"},\"hatch_alpha\":{\"value\":0.2},\"hatch_color\":{\"value\":\"blue\"},\"line_alpha\":{\"value\":0.2},\"line_color\":{\"value\":\"blue\"},\"x\":{\"field\":\"GDP_per_capita\"},\"y\":{\"field\":\"CO2_per_capita\"}},\"id\":\"1898\",\"type\":\"Scatter\"},{\"attributes\":{},\"id\":\"1977\",\"type\":\"Selection\"},{\"attributes\":{},\"id\":\"1878\",\"type\":\"BasicTicker\"},{\"attributes\":{\"line_alpha\":0.2,\"line_color\":\"red\",\"line_width\":2,\"x\":{\"field\":\"x\"},\"y\":{\"field\":\"y\"}},\"id\":\"1959\",\"type\":\"Line\"},{\"attributes\":{\"overlay\":{\"id\":\"1887\"}},\"id\":\"1883\",\"type\":\"BoxZoomTool\"},{\"attributes\":{\"source\":{\"id\":\"1385\"}},\"id\":\"1900\",\"type\":\"CDSView\"},{\"attributes\":{\"coordinates\":null,\"group\":null,\"text\":\"Correlation between CO2 per capita and GDP per capita\"},\"id\":\"1901\",\"type\":\"Title\"},{\"attributes\":{\"line_color\":\"red\",\"line_width\":2,\"x\":{\"field\":\"x\"},\"y\":{\"field\":\"y\"}},\"id\":\"1957\",\"type\":\"Line\"},{\"attributes\":{},\"id\":\"1885\",\"type\":\"ResetTool\"},{\"attributes\":{\"source\":{\"id\":\"1956\"}},\"id\":\"1961\",\"type\":\"CDSView\"},{\"attributes\":{},\"id\":\"1433\",\"type\":\"UnionRenderers\"},{\"attributes\":{\"line_alpha\":0.2,\"line_color\":\"orange\",\"line_width\":2,\"x\":{\"field\":\"x\"},\"y\":{\"field\":\"y\"}},\"id\":\"1917\",\"type\":\"Line\"},{\"attributes\":{\"line_alpha\":0.1,\"line_color\":\"red\",\"line_width\":2,\"x\":{\"field\":\"x\"},\"y\":{\"field\":\"y\"}},\"id\":\"1958\",\"type\":\"Line\"},{\"attributes\":{},\"id\":\"1884\",\"type\":\"SaveTool\"},{\"attributes\":{\"line_alpha\":0.1,\"line_color\":\"orange\",\"line_width\":2,\"x\":{\"field\":\"x\"},\"y\":{\"field\":\"y\"}},\"id\":\"1916\",\"type\":\"Line\"},{\"attributes\":{},\"id\":\"1869\",\"type\":\"LinearScale\"},{\"attributes\":{\"line_color\":\"orange\",\"line_width\":2,\"x\":{\"field\":\"x\"},\"y\":{\"field\":\"y\"}},\"id\":\"1915\",\"type\":\"Line\"},{\"attributes\":{},\"id\":\"1434\",\"type\":\"Selection\"},{\"attributes\":{\"bottom_units\":\"screen\",\"coordinates\":null,\"fill_alpha\":0.5,\"fill_color\":\"lightgrey\",\"group\":null,\"left_units\":\"screen\",\"level\":\"overlay\",\"line_alpha\":1.0,\"line_color\":\"black\",\"line_dash\":[4,4],\"line_width\":2,\"right_units\":\"screen\",\"syncable\":false,\"top_units\":\"screen\"},\"id\":\"1887\",\"type\":\"BoxAnnotation\"},{\"attributes\":{\"coordinates\":null,\"data_source\":{\"id\":\"1934\"},\"glyph\":{\"id\":\"1935\"},\"group\":null,\"hover_glyph\":null,\"muted_glyph\":{\"id\":\"1937\"},\"nonselection_glyph\":{\"id\":\"1936\"},\"view\":{\"id\":\"1939\"}},\"id\":\"1938\",\"type\":\"GlyphRenderer\"},{\"attributes\":{\"data\":{\"x\":{\"__ndarray__\":\"tbXDLTXAIT8fJqC8qMciPxhKxdT/eSU/vPisoSgYJz/aZjoCxnUoP+S0iiQpsys/Hhh7U/DsLT9zMLI3GzEsP1Dp3aVwVyM/BxJNCpMzJD85+46w2NkmP2BiQKR/oiU/p/L82PiNJj/emwuIna0nPxF1EgNyxCk/IM+kEzKBLD/dQPTndA8vPzphL8MHxDE/7Z0es0tkND/BQUOOTjsxP1oxPBwJATU/NofB3ZXJNz8T9WWEeGM4P5O1Xvd8ZTg/s2TrtVnWOD9iU3s3io01Pw==\",\"dtype\":\"float64\",\"order\":\"little\",\"shape\":[26]},\"y\":{\"__ndarray__\":\"2d35NKqwiT6se0VVRWuKPucxvpzbLow+KGiWF84jjT5+mEtRauONPh+LaF5xco8+6Me3V6YrkD43tShNNKiPPp13EavJzYo+7r/FcxJgiz64o7tQMgCNPrdpBHWrR4w++m00GD7UjD4hci1HaneNPsGFlNzUjY4+c8o7U3TJjz6iJATw5V6QPqHfAOkr+pA+g2dsVItRkT6nzQQT19uQPlxCH4IoV5E+Bsw8NlUqkT4sBwB4ghGRPl4EKAQmEZE+eP6EzHj7kD4wVs6RcleRPg==\",\"dtype\":\"float64\",\"order\":\"little\",\"shape\":[26]}},\"selected\":{\"id\":\"1953\"},\"selection_policy\":{\"id\":\"1952\"}},\"id\":\"1934\",\"type\":\"ColumnDataSource\"},{\"attributes\":{\"coordinates\":null,\"data_source\":{\"id\":\"1956\"},\"glyph\":{\"id\":\"1957\"},\"group\":null,\"hover_glyph\":null,\"muted_glyph\":{\"id\":\"1959\"},\"nonselection_glyph\":{\"id\":\"1958\"},\"view\":{\"id\":\"1961\"}},\"id\":\"1960\",\"type\":\"GlyphRenderer\"},{\"attributes\":{\"source\":{\"id\":\"1934\"}},\"id\":\"1939\",\"type\":\"CDSView\"},{\"attributes\":{},\"id\":\"1871\",\"type\":\"LinearScale\"},{\"attributes\":{\"source\":{\"id\":\"1914\"}},\"id\":\"1919\",\"type\":\"CDSView\"},{\"attributes\":{},\"id\":\"1976\",\"type\":\"UnionRenderers\"},{\"attributes\":{},\"id\":\"1952\",\"type\":\"UnionRenderers\"},{\"attributes\":{\"data\":{\"x\":{\"__ndarray__\":\"tbXDLTXAIT8fJqC8qMciPxhKxdT/eSU/vPisoSgYJz/aZjoCxnUoP+S0iiQpsys/Hhh7U/DsLT9zMLI3GzEsP1Dp3aVwVyM/BxJNCpMzJD85+46w2NkmP2BiQKR/oiU/p/L82PiNJj/emwuIna0nPxF1EgNyxCk/IM+kEzKBLD/dQPTndA8vPzphL8MHxDE/7Z0es0tkND/BQUOOTjsxP1oxPBwJATU/NofB3ZXJNz8T9WWEeGM4P5O1Xvd8ZTg/s2TrtVnWOD9iU3s3io01Pw==\",\"dtype\":\"float64\",\"order\":\"little\",\"shape\":[26]},\"y\":{\"__ndarray__\":\"17LWDB91iT6Zs+2ZekeKPmKPAf8bNow+aAzI6zk5jT6npjvpCf+NPumXWz/gi48+QK56wJgykD6L1ciWpb+PPsAF/mUqtYo+dhVgvDtWiz4pleak+xONPiERRKSpUIw+aLFU987ljD555c1uFpCNPtAW4/Mgq44+MnwbG3Pfjz4/YNXT5WGQPujebYBv65A+hN/mowY2kT6EGq04SdGQPqKRogfeO5E+7vM9XaEpkT7sGNc3hB2RPqr9xWBXHZE+kvbm2ucSkT7EFSCg0z2RPg==\",\"dtype\":\"float64\",\"order\":\"little\",\"shape\":[26]}},\"selected\":{\"id\":\"1977\"},\"selection_policy\":{\"id\":\"1976\"}},\"id\":\"1956\",\"type\":\"ColumnDataSource\"}],\"root_ids\":[\"1864\"]},\"title\":\"Bokeh Application\",\"version\":\"2.4.3\"}};\n  const render_items = [{\"docid\":\"ef80fc3e-0a97-4c55-86a1-ac2d7350a202\",\"root_ids\":[\"1864\"],\"roots\":{\"1864\":\"4660f811-783e-47b9-b7aa-f237e48912cf\"}}];\n  root.Bokeh.embed.embed_items_notebook(docs_json, render_items);\n  }\n  if (root.Bokeh !== undefined) {\n    embed_document(root);\n  } else {\n    let attempts = 0;\n    const timer = setInterval(function(root) {\n      if (root.Bokeh !== undefined) {\n        clearInterval(timer);\n        embed_document(root);\n      } else {\n        attempts++;\n        if (attempts > 100) {\n          clearInterval(timer);\n          console.log(\"Bokeh: ERROR: Unable to run BokehJS code because BokehJS library is missing\");\n        }\n      }\n    }, 10, root)\n  }\n})(window);",
      "application/vnd.bokehjs_exec.v0+json": ""
     },
     "metadata": {
      "application/vnd.bokehjs_exec.v0+json": {
       "id": "1864"
      }
     },
     "output_type": "display_data"
    }
   ],
   "source": [
    "degree=2\n",
    "model_2 = make_pipeline(PolynomialFeatures(degree), LinearRegression())\n",
    "model_2.fit(X, y)\n",
    "quad_model = model_2.predict(X)\n",
    "print('The quadratic regression model is: y = {}x^2 + {}x + {}'.format(model_2.steps[1][1].coef_[0][2], model_2.steps[1][1].coef_[0][1], model_2.steps[1][1].coef_[0][0]))\n",
    "\n",
    "degree=3\n",
    "model_3 = make_pipeline(PolynomialFeatures(degree), LinearRegression())\n",
    "model_3.fit(X, y)\n",
    "cubic_model = model_3.predict(X)\n",
    "print('The cubic regression model is: y = {}x^3 + {}x^2 + {}x + {}'.format(model_3.steps[1][1].coef_[0][3], model_3.steps[1][1].coef_[0][2], model_3.steps[1][1].coef_[0][1], model_3.steps[1][1].coef_[0][0]))\n",
    "\n",
    "pp = figure(plot_width=800, plot_height=400)\n",
    "pp.scatter(x='GDP_per_capita', y='CO2_per_capita', source=source, color='blue', legend_label='Data')\n",
    "pp.line(x=X[:,0], y=linear_model[:,0], line_width=2, line_color='orange', legend_label='Linear Regression Model')\n",
    "pp.line(x=X[:,0], y=quad_model[:,0], line_width=2, line_color='green', legend_label='Quadratic Regression Model')\n",
    "pp.line(x=X[:,0], y=cubic_model[:,0], line_width=2, line_color='red', legend_label='Cubic Regression Model')\n",
    "pp.title.text = 'Correlation between CO2 per capita and GDP per capita'\n",
    "pp.xaxis.axis_label = 'GDP per capita'\n",
    "pp.yaxis.axis_label = 'CO2 per capita'\n",
    "show(pp)"
   ]
  },
  {
   "attachments": {},
   "cell_type": "markdown",
   "metadata": {},
   "source": [
    "That's great! As expected, we found that the quadratic and cubic models are much better than the linear ones. Now let's evaluate the model numerically with the root mean squared error (RMSE)."
   ]
  },
  {
   "cell_type": "code",
   "execution_count": 9,
   "metadata": {},
   "outputs": [],
   "source": [
    "from sklearn.metrics import mean_squared_error"
   ]
  },
  {
   "cell_type": "code",
   "execution_count": 10,
   "metadata": {},
   "outputs": [
    {
     "name": "stdout",
     "output_type": "stream",
     "text": [
      "The mean squared error of the linear model is: 3.57644645322275e-16\n",
      "The mean squared error of the quadratic model is: 2.7832709588190173e-16\n",
      "The mean squared error of the cubic model is: 2.7753612314157626e-16\n"
     ]
    }
   ],
   "source": [
    "### Evaluate the performance of the models\n",
    "print('The mean squared error of the linear model is: {}'.format(mean_squared_error(y, linear_model)))\n",
    "print('The mean squared error of the quadratic model is: {}'.format(mean_squared_error(y, quad_model)))\n",
    "print('The mean squared error of the cubic model is: {}'.format(mean_squared_error(y, cubic_model)))"
   ]
  },
  {
   "attachments": {},
   "cell_type": "markdown",
   "metadata": {},
   "source": [
    "There is really no significant difference between the quadratic and cubic models. Since the cubic model can be overfitting, we can conclude that the quadratic model is sufficient."
   ]
  },
  {
   "cell_type": "code",
   "execution_count": 11,
   "metadata": {},
   "outputs": [],
   "source": [
    "# ### Check the performance with residuals\n",
    "# linear_residuals = y - linear_model\n",
    "# quad_residuals = y - quad_model\n",
    "# cubic_residuals = y - cubic_model\n",
    "\n",
    "# ### make x values for the residuals\n",
    "# x = np.linspace(0, 0.001, 26)\n",
    "\n",
    "# residuals = figure(plot_width=800, plot_height=400)\n",
    "# residuals.scatter(x=x, y=linear_residuals[:,0], color='orange', legend_label='Linear Model Residuals')\n",
    "# residuals.scatter(x=x, y=quad_residuals[:,0], color='green', legend_label='Quadratic Model Residuals')\n",
    "# residuals.scatter(x=x, y=cubic_residuals[:,0], color='red', legend_label='Cubic Model Residuals')\n",
    "# residuals.title.text = 'Residuals of the models'\n",
    "# residuals.xaxis.axis_label = 'GDP per capita'\n",
    "# residuals.yaxis.axis_label = 'Residuals'\n",
    "# show(residuals)\n"
   ]
  },
  {
   "attachments": {},
   "cell_type": "markdown",
   "metadata": {},
   "source": [
    "## Loading Singapore Only Data and Adding CO2 emission per capita and GDP per capita columns"
   ]
  },
  {
   "cell_type": "code",
   "execution_count": 12,
   "metadata": {},
   "outputs": [],
   "source": [
    "### Make 3 df of Singapore (CO2, GDP, POP)\n",
    "df_co2_sing = pd.DataFrame(df_co2_SEA.set_index('Year')['Singapore']).rename(columns={'Singapore':'CO2'})\n",
    "df_gdp_sing = pd.DataFrame(df_gdp_SEA.set_index('Year')['Singapore']).rename(columns={'Singapore':'GDP'})\n",
    "df_pop_sing = pd.DataFrame(df_pop_SEA.set_index('Year')['Singapore']).rename(columns={'Singapore':'POP'})\n",
    "\n",
    "### Concatenate 3 df into 1 df\n",
    "df_sing = pd.concat([df_co2_sing, df_gdp_sing, df_pop_sing], axis=1)\n",
    "\n",
    "### Calculate the per capita CO2 emissions\n",
    "df_sing['CO2_per_capita'] = df_sing['CO2'] / df_sing['POP']\n",
    "\n",
    "### Calculate the per capita GDP\n",
    "df_sing['GDP_per_capita'] = df_sing['GDP'] / df_sing['POP']\n"
   ]
  },
  {
   "attachments": {},
   "cell_type": "markdown",
   "metadata": {},
   "source": [
    "## Plotting the line chart of CO2 emission per capita and GDP per capita to check the correlation between them"
   ]
  },
  {
   "cell_type": "code",
   "execution_count": 13,
   "metadata": {},
   "outputs": [
    {
     "name": "stderr",
     "output_type": "stream",
     "text": [
      "BokehDeprecationWarning: 'legend' keyword is deprecated, use explicit 'legend_label', 'legend_field', or 'legend_group' keywords instead\n"
     ]
    },
    {
     "data": {
      "text/html": [
       "\n",
       "  <div class=\"bk-root\" id=\"38ffb2a7-7bd2-4f17-bbfa-21318f763d14\" data-root-id=\"2146\"></div>\n"
      ]
     },
     "metadata": {},
     "output_type": "display_data"
    },
    {
     "data": {
      "application/javascript": "(function(root) {\n  function embed_document(root) {\n  const docs_json = {\"f6790918-39c8-48ea-87f6-54551af04a93\":{\"defs\":[],\"roots\":{\"references\":[{\"attributes\":{\"below\":[{\"id\":\"2155\"}],\"center\":[{\"id\":\"2158\"},{\"id\":\"2162\"},{\"id\":\"2208\"}],\"extra_y_ranges\":{\"extra\":{\"id\":\"2210\"}},\"height\":400,\"left\":[{\"id\":\"2159\"}],\"renderers\":[{\"id\":\"2183\"},{\"id\":\"2216\"}],\"right\":[{\"id\":\"2211\"}],\"title\":{\"id\":\"2177\"},\"toolbar\":{\"id\":\"2170\"},\"width\":800,\"x_range\":{\"id\":\"2147\"},\"x_scale\":{\"id\":\"2151\"},\"y_range\":{\"id\":\"2178\"},\"y_scale\":{\"id\":\"2153\"}},\"id\":\"2146\",\"subtype\":\"Figure\",\"type\":\"Plot\"},{\"attributes\":{\"axis\":{\"id\":\"2159\"},\"coordinates\":null,\"dimension\":1,\"group\":null,\"ticker\":null},\"id\":\"2162\",\"type\":\"Grid\"},{\"attributes\":{},\"id\":\"2191\",\"type\":\"DatetimeTickFormatter\"},{\"attributes\":{\"line_color\":\"blue\",\"line_width\":2,\"x\":{\"field\":\"Year\"},\"y\":{\"field\":\"CO2_per_capita\"}},\"id\":\"2180\",\"type\":\"Line\"},{\"attributes\":{},\"id\":\"2224\",\"type\":\"BasicTickFormatter\"},{\"attributes\":{\"days\":[1,2,3,4,5,6,7,8,9,10,11,12,13,14,15,16,17,18,19,20,21,22,23,24,25,26,27,28,29,30,31]},\"id\":\"2199\",\"type\":\"DaysTicker\"},{\"attributes\":{\"base\":24,\"mantissas\":[1,2,4,6,8,12],\"max_interval\":43200000.0,\"min_interval\":3600000.0,\"num_minor_ticks\":0},\"id\":\"2198\",\"type\":\"AdaptiveTicker\"},{\"attributes\":{\"days\":[1,4,7,10,13,16,19,22,25,28]},\"id\":\"2200\",\"type\":\"DaysTicker\"},{\"attributes\":{},\"id\":\"2192\",\"type\":\"AllLabels\"},{\"attributes\":{},\"id\":\"2223\",\"type\":\"BasicTicker\"},{\"attributes\":{\"days\":[1,15]},\"id\":\"2202\",\"type\":\"DaysTicker\"},{\"attributes\":{},\"id\":\"2225\",\"type\":\"AllLabels\"},{\"attributes\":{\"months\":[0,6]},\"id\":\"2206\",\"type\":\"MonthsTicker\"},{\"attributes\":{\"months\":[0,1,2,3,4,5,6,7,8,9,10,11]},\"id\":\"2203\",\"type\":\"MonthsTicker\"},{\"attributes\":{\"axis_label\":\"CO2 emmissions per capita (metric tons)\",\"coordinates\":null,\"formatter\":{\"id\":\"2188\"},\"group\":null,\"major_label_policy\":{\"id\":\"2189\"},\"ticker\":{\"id\":\"2160\"}},\"id\":\"2159\",\"type\":\"LinearAxis\"},{\"attributes\":{},\"id\":\"2163\",\"type\":\"PanTool\"},{\"attributes\":{\"months\":[0,2,4,6,8,10]},\"id\":\"2204\",\"type\":\"MonthsTicker\"},{\"attributes\":{\"end\":5e-06},\"id\":\"2178\",\"type\":\"Range1d\"},{\"attributes\":{\"days\":[1,8,15,22]},\"id\":\"2201\",\"type\":\"DaysTicker\"},{\"attributes\":{},\"id\":\"2207\",\"type\":\"YearsTicker\"},{\"attributes\":{\"coordinates\":null,\"data_source\":{\"id\":\"2145\"},\"glyph\":{\"id\":\"2213\"},\"group\":null,\"hover_glyph\":null,\"muted_glyph\":{\"id\":\"2215\"},\"nonselection_glyph\":{\"id\":\"2214\"},\"view\":{\"id\":\"2217\"},\"y_range_name\":\"extra\"},\"id\":\"2216\",\"type\":\"GlyphRenderer\"},{\"attributes\":{},\"id\":\"2147\",\"type\":\"DataRange1d\"},{\"attributes\":{\"months\":[0,4,8]},\"id\":\"2205\",\"type\":\"MonthsTicker\"},{\"attributes\":{\"coordinates\":null,\"group\":null,\"items\":[{\"id\":\"2209\"},{\"id\":\"2244\"}]},\"id\":\"2208\",\"type\":\"Legend\"},{\"attributes\":{},\"id\":\"2193\",\"type\":\"UnionRenderers\"},{\"attributes\":{},\"id\":\"2167\",\"type\":\"ResetTool\"},{\"attributes\":{},\"id\":\"2160\",\"type\":\"BasicTicker\"},{\"attributes\":{\"bottom_units\":\"screen\",\"coordinates\":null,\"fill_alpha\":0.5,\"fill_color\":\"lightgrey\",\"group\":null,\"left_units\":\"screen\",\"level\":\"overlay\",\"line_alpha\":1.0,\"line_color\":\"black\",\"line_dash\":[4,4],\"line_width\":2,\"right_units\":\"screen\",\"syncable\":false,\"top_units\":\"screen\"},\"id\":\"2169\",\"type\":\"BoxAnnotation\"},{\"attributes\":{\"axis_label\":\"Year (1990-2015)\",\"coordinates\":null,\"formatter\":{\"id\":\"2191\"},\"group\":null,\"major_label_policy\":{\"id\":\"2192\"},\"ticker\":{\"id\":\"2156\"}},\"id\":\"2155\",\"type\":\"DatetimeAxis\"},{\"attributes\":{},\"id\":\"2194\",\"type\":\"Selection\"},{\"attributes\":{},\"id\":\"2151\",\"type\":\"LinearScale\"},{\"attributes\":{\"source\":{\"id\":\"2145\"}},\"id\":\"2184\",\"type\":\"CDSView\"},{\"attributes\":{\"coordinates\":null,\"group\":null,\"text\":\"CO2 emissions per capita in Singapore\"},\"id\":\"2177\",\"type\":\"Title\"},{\"attributes\":{},\"id\":\"2164\",\"type\":\"WheelZoomTool\"},{\"attributes\":{\"coordinates\":null,\"data_source\":{\"id\":\"2145\"},\"glyph\":{\"id\":\"2180\"},\"group\":null,\"hover_glyph\":null,\"muted_glyph\":{\"id\":\"2182\"},\"nonselection_glyph\":{\"id\":\"2181\"},\"view\":{\"id\":\"2184\"}},\"id\":\"2183\",\"type\":\"GlyphRenderer\"},{\"attributes\":{},\"id\":\"2168\",\"type\":\"HelpTool\"},{\"attributes\":{\"line_alpha\":0.1,\"line_color\":\"red\",\"line_width\":2,\"x\":{\"field\":\"Year\"},\"y\":{\"field\":\"GDP_per_capita\"}},\"id\":\"2214\",\"type\":\"Line\"},{\"attributes\":{},\"id\":\"2166\",\"type\":\"SaveTool\"},{\"attributes\":{\"axis_label\":\"GDP per capita\",\"coordinates\":null,\"formatter\":{\"id\":\"2224\"},\"group\":null,\"major_label_policy\":{\"id\":\"2225\"},\"ticker\":{\"id\":\"2223\"},\"y_range_name\":\"extra\"},\"id\":\"2211\",\"type\":\"LinearAxis\"},{\"attributes\":{\"overlay\":{\"id\":\"2169\"}},\"id\":\"2165\",\"type\":\"BoxZoomTool\"},{\"attributes\":{\"num_minor_ticks\":5,\"tickers\":[{\"id\":\"2196\"},{\"id\":\"2197\"},{\"id\":\"2198\"},{\"id\":\"2199\"},{\"id\":\"2200\"},{\"id\":\"2201\"},{\"id\":\"2202\"},{\"id\":\"2203\"},{\"id\":\"2204\"},{\"id\":\"2205\"},{\"id\":\"2206\"},{\"id\":\"2207\"}]},\"id\":\"2156\",\"type\":\"DatetimeTicker\"},{\"attributes\":{\"label\":{\"value\":\"CO2 per capita\"},\"renderers\":[{\"id\":\"2183\"}]},\"id\":\"2209\",\"type\":\"LegendItem\"},{\"attributes\":{\"line_color\":\"red\",\"line_width\":2,\"x\":{\"field\":\"Year\"},\"y\":{\"field\":\"GDP_per_capita\"}},\"id\":\"2213\",\"type\":\"Line\"},{\"attributes\":{\"end\":0.02},\"id\":\"2210\",\"type\":\"Range1d\"},{\"attributes\":{\"label\":{\"value\":\"GDP per capita\"},\"renderers\":[{\"id\":\"2216\"}]},\"id\":\"2244\",\"type\":\"LegendItem\"},{\"attributes\":{\"axis\":{\"id\":\"2155\"},\"coordinates\":null,\"group\":null,\"ticker\":null},\"id\":\"2158\",\"type\":\"Grid\"},{\"attributes\":{},\"id\":\"2189\",\"type\":\"AllLabels\"},{\"attributes\":{\"line_alpha\":0.2,\"line_color\":\"red\",\"line_width\":2,\"x\":{\"field\":\"Year\"},\"y\":{\"field\":\"GDP_per_capita\"}},\"id\":\"2215\",\"type\":\"Line\"},{\"attributes\":{\"data\":{\"CO2\":{\"__ndarray__\":\"Aket6LwDI0B7xggiJnAjQL3j8s3YcSNAp861VXjTJUDiqNJYejcmQEi4pIQxUyVAjMqDb+D8JEAnPgab7BokQCEK4bFL3iJAUurzaNkYI0DwjAR0COokQIcd1gVpUCRARmYbq2/GI0A+EAgsLYwiQOmcmTKCBCNA+GUfc/BMIUBS/gUP5eMgQICqMsZusCBAjmxrBYvBH0DqF2XPMiQfQE/sCSwltSBAFfS3nP5FIUAbQJjgvHIgQK4s5/X2QyBAwFd9Yh08IED+HIpIYGogQA==\",\"dtype\":\"float64\",\"order\":\"little\",\"shape\":[26]},\"CO2_per_capita\":{\"__ndarray__\":\"NM7ABlMsyj7H42/CZAHKPqeKLDiRPsk+KrGUJM+gyz4Tb9h4F0HLPqG3BPCoYMk+rwvelEf7xz6vud2N6zbGPmTfQj3OJsQ+Y4yzDcg7xD5MhGzIPcfFPoSP3Jsnl8Q+9YzYu6/cwz631z484+fCPl/deenNJMM+BD4hb78CwT5q8ZpzehjAPqWvgn6cgr4+c0EOxd+Fuz4KNBQ8OjC6PhKKCFZmm7s+J0X8cfvzuz5MFvYO+Pi5Pmsg23l/Rbk+HtV22//luD6NY7Mv8OC4Pg==\",\"dtype\":\"float64\",\"order\":\"little\",\"shape\":[26]},\"GDP\":{\"__ndarray__\":\"IpXSyeAqx0D7iaOjMFPMQHJ/kfL0g89A6oSjzoHc0UAbbUL6QQzVQNNVA1KaVNhAAQXXP2ie2UBBHG80/sHZQCf2EDFTUdVAEn5mZwVJ1UDIWgnuFEvXQK5PbkgBMdVAa/xVFuyj1UAULLzBiSzXQFd8SmQi9tpAyrCJ2VBC3UBd+ufuJH3gQFJF9QYeQeNA7RcwBO+I40BXhcae5gHjQFrKPbqeEOdAjMohuE1Q6kAt5RuiTx/rQKvRGqDt0OtANDZD/FAb7ECdZ8bM0yvrQA==\",\"dtype\":\"float64\",\"order\":\"little\",\"shape\":[26]},\"GDP_per_capita\":{\"__ndarray__\":\"uSKOEbbjbz+dKYppivJyP4xIAeEsdXQ/ZmSs2Aicdj9RbV5DBtJ5P5ioeb1J9Hw/E5r47epFfT+ZKUVUz3V8PxZjy7d6xHY/VwK87EmNdj9h/+4idEF4P8v36wbOenU/0jr1ZkW8dT8nx3gSIJ93P+KlZp3rI3s/pyWyddfEfD/Fo8aXH21/P+ugSdKPmYE/jPMLBU/ugD8P9yGo9/d/P1gQXkNKDoM/XuOybZRKhT+DV/im62mFP7rjaNDYm4U/dokVpYaNhT9KAm15+ZaEPw==\",\"dtype\":\"float64\",\"order\":\"little\",\"shape\":[26]},\"POP\":{\"__ndarray__\":\"AAAAAG4/R0EAAACANetHQQAAAAD1pUhBAAAAgJ9HSUEAAAAA1BVKQQAAAADN40pBAAAAAFgBTEEAAAAAI/ZMQQAAAIBW9k1BAAAAgOEzTkEAAACA97pOQQAAAAAOkk9BAAAAACfcT0EAAAAAxWRPQQAAAAAEyk9BAAAAgMhFUEEAAABANcpQQQAAAMANgVFBAAAAAPl1UkEAAABArQZTQQAAAAC/XVNBAAAAADLGU0EAAABA7UNUQQAAAICemFRBAAAAAIfdVEEAAACARh1VQQ==\",\"dtype\":\"float64\",\"order\":\"little\",\"shape\":[26]},\"Year\":{\"__ndarray__\":\"AACA53JeYkIAAAANaUljQgAAgDJfNGRCAACAI/ofZUIAAABJ8ApmQgAAgG7m9WZCAAAAlNzgZ0IAAACFd8xoQgAAgKptt2lCAAAA0GOiakIAAID1WY1rQgAAgOb0eGxCAAAADOtjbUIAAIAx4U5uQgAAAFfXOW9CAAAAJLkScEIAAMA2NIhwQgAAgEmv/XBCAABAXCpzcUIAAMDU9+hxQgAAgOdyXnJCAABA+u3TckIAAAANaUlzQgAAgIU2v3NCAABAmLE0dEIAAACrLKp0Qg==\",\"dtype\":\"float64\",\"order\":\"little\",\"shape\":[26]}},\"selected\":{\"id\":\"2194\"},\"selection_policy\":{\"id\":\"2193\"}},\"id\":\"2145\",\"type\":\"ColumnDataSource\"},{\"attributes\":{},\"id\":\"2188\",\"type\":\"BasicTickFormatter\"},{\"attributes\":{},\"id\":\"2153\",\"type\":\"LinearScale\"},{\"attributes\":{\"line_alpha\":0.2,\"line_color\":\"blue\",\"line_width\":2,\"x\":{\"field\":\"Year\"},\"y\":{\"field\":\"CO2_per_capita\"}},\"id\":\"2182\",\"type\":\"Line\"},{\"attributes\":{\"source\":{\"id\":\"2145\"}},\"id\":\"2217\",\"type\":\"CDSView\"},{\"attributes\":{\"line_alpha\":0.1,\"line_color\":\"blue\",\"line_width\":2,\"x\":{\"field\":\"Year\"},\"y\":{\"field\":\"CO2_per_capita\"}},\"id\":\"2181\",\"type\":\"Line\"},{\"attributes\":{\"tools\":[{\"id\":\"2163\"},{\"id\":\"2164\"},{\"id\":\"2165\"},{\"id\":\"2166\"},{\"id\":\"2167\"},{\"id\":\"2168\"}]},\"id\":\"2170\",\"type\":\"Toolbar\"},{\"attributes\":{\"mantissas\":[1,2,5],\"max_interval\":500.0,\"num_minor_ticks\":0},\"id\":\"2196\",\"type\":\"AdaptiveTicker\"},{\"attributes\":{\"base\":60,\"mantissas\":[1,2,5,10,15,20,30],\"max_interval\":1800000.0,\"min_interval\":1000.0,\"num_minor_ticks\":0},\"id\":\"2197\",\"type\":\"AdaptiveTicker\"}],\"root_ids\":[\"2146\"]},\"title\":\"Bokeh Application\",\"version\":\"2.4.3\"}};\n  const render_items = [{\"docid\":\"f6790918-39c8-48ea-87f6-54551af04a93\",\"root_ids\":[\"2146\"],\"roots\":{\"2146\":\"38ffb2a7-7bd2-4f17-bbfa-21318f763d14\"}}];\n  root.Bokeh.embed.embed_items_notebook(docs_json, render_items);\n  }\n  if (root.Bokeh !== undefined) {\n    embed_document(root);\n  } else {\n    let attempts = 0;\n    const timer = setInterval(function(root) {\n      if (root.Bokeh !== undefined) {\n        clearInterval(timer);\n        embed_document(root);\n      } else {\n        attempts++;\n        if (attempts > 100) {\n          clearInterval(timer);\n          console.log(\"Bokeh: ERROR: Unable to run BokehJS code because BokehJS library is missing\");\n        }\n      }\n    }, 10, root)\n  }\n})(window);",
      "application/vnd.bokehjs_exec.v0+json": ""
     },
     "metadata": {
      "application/vnd.bokehjs_exec.v0+json": {
       "id": "2146"
      }
     },
     "output_type": "display_data"
    }
   ],
   "source": [
    "### Make a line plot of CO2 emissions per capita in Singapore\n",
    "source = ColumnDataSource(df_sing)\n",
    "\n",
    "co2_gdp = figure(x_axis_type='datetime', plot_width=800, plot_height=400)\n",
    "co2_gdp.title.text = 'CO2 emissions per capita in Singapore'\n",
    "co2_gdp.xaxis.axis_label = 'Year (1990-2015)'\n",
    "co2_gdp.yaxis.axis_label = 'CO2 emmissions per capita (metric tons)'\n",
    "\n",
    "co2_gdp.y_range = Range1d(start=0, end=0.000005)\n",
    "co2_gdp.line(x='Year', y='CO2_per_capita', source=source, line_width=2, line_color='blue', legend_label='CO2 per capita')\n",
    "\n",
    "### Make a line plot of GDP per capita in Singapore\n",
    "co2_gdp.extra_y_ranges = {'extra': Range1d(start=0, end=0.02)}\n",
    "co2_gdp.add_layout(LinearAxis(y_range_name='extra', axis_label='GDP per capita'), 'right')\n",
    "co2_gdp.line(x='Year', y='GDP_per_capita', source=source, color='red', line_width=2, legend='GDP per capita', y_range_name='extra')\n",
    "\n",
    "show(co2_gdp)\n"
   ]
  },
  {
   "attachments": {},
   "cell_type": "markdown",
   "metadata": {},
   "source": [
    "Unlike Malaysia, Singapore shows an inverse correlation between CO2 emission and GDP. As a service- and finance-oriented value-creating society, Singapore is exactly the opposite of Malaysia. (As explained above, COE, the right to own a vehicle, has been in effect since 1990, and although it temporarily contributed to the reduction of CO2 emission, it can be concluded that the continuous decrease in the future is due to the social-industrial structure.)"
   ]
  },
  {
   "attachments": {},
   "cell_type": "markdown",
   "metadata": {},
   "source": [
    "## Plotting the scatter chart (GDP per capita, CO2 per capita) and making a linear regression line chart"
   ]
  },
  {
   "cell_type": "code",
   "execution_count": 14,
   "metadata": {},
   "outputs": [
    {
     "name": "stdout",
     "output_type": "stream",
     "text": [
      "[[-0.00025044]]\n",
      "The linear regression model is: y = -0.0002504421101671916x + 4.0855589600711776e-06\n"
     ]
    },
    {
     "data": {
      "text/html": [
       "\n",
       "  <div class=\"bk-root\" id=\"d1182f65-7957-49e5-9a3a-58056f4bfe08\" data-root-id=\"2480\"></div>\n"
      ]
     },
     "metadata": {},
     "output_type": "display_data"
    },
    {
     "data": {
      "application/javascript": "(function(root) {\n  function embed_document(root) {\n  const docs_json = {\"932402df-0b5b-49aa-a606-c3a670d9893a\":{\"defs\":[],\"roots\":{\"references\":[{\"attributes\":{\"below\":[{\"id\":\"2489\"}],\"center\":[{\"id\":\"2492\"},{\"id\":\"2496\"},{\"id\":\"2528\"}],\"height\":400,\"left\":[{\"id\":\"2493\"}],\"renderers\":[{\"id\":\"2515\"},{\"id\":\"2534\"}],\"title\":{\"id\":\"2517\"},\"toolbar\":{\"id\":\"2504\"},\"width\":800,\"x_range\":{\"id\":\"2481\"},\"x_scale\":{\"id\":\"2485\"},\"y_range\":{\"id\":\"2483\"},\"y_scale\":{\"id\":\"2487\"}},\"id\":\"2480\",\"subtype\":\"Figure\",\"type\":\"Plot\"},{\"attributes\":{},\"id\":\"2520\",\"type\":\"BasicTickFormatter\"},{\"attributes\":{\"axis\":{\"id\":\"2489\"},\"coordinates\":null,\"group\":null,\"ticker\":null},\"id\":\"2492\",\"type\":\"Grid\"},{\"attributes\":{},\"id\":\"2521\",\"type\":\"AllLabels\"},{\"attributes\":{},\"id\":\"2523\",\"type\":\"BasicTickFormatter\"},{\"attributes\":{\"axis\":{\"id\":\"2493\"},\"coordinates\":null,\"dimension\":1,\"group\":null,\"ticker\":null},\"id\":\"2496\",\"type\":\"Grid\"},{\"attributes\":{\"coordinates\":null,\"data_source\":{\"id\":\"2145\"},\"glyph\":{\"id\":\"2512\"},\"group\":null,\"hover_glyph\":null,\"muted_glyph\":{\"id\":\"2514\"},\"nonselection_glyph\":{\"id\":\"2513\"},\"view\":{\"id\":\"2516\"}},\"id\":\"2515\",\"type\":\"GlyphRenderer\"},{\"attributes\":{},\"id\":\"2494\",\"type\":\"BasicTicker\"},{\"attributes\":{\"coordinates\":null,\"group\":null,\"items\":[{\"id\":\"2529\"},{\"id\":\"2549\"}]},\"id\":\"2528\",\"type\":\"Legend\"},{\"attributes\":{},\"id\":\"2524\",\"type\":\"AllLabels\"},{\"attributes\":{\"fill_alpha\":{\"value\":0.1},\"fill_color\":{\"value\":\"blue\"},\"hatch_alpha\":{\"value\":0.1},\"hatch_color\":{\"value\":\"blue\"},\"line_alpha\":{\"value\":0.1},\"line_color\":{\"value\":\"blue\"},\"x\":{\"field\":\"GDP_per_capita\"},\"y\":{\"field\":\"CO2_per_capita\"}},\"id\":\"2513\",\"type\":\"Scatter\"},{\"attributes\":{\"fill_alpha\":{\"value\":0.2},\"fill_color\":{\"value\":\"blue\"},\"hatch_alpha\":{\"value\":0.2},\"hatch_color\":{\"value\":\"blue\"},\"line_alpha\":{\"value\":0.2},\"line_color\":{\"value\":\"blue\"},\"x\":{\"field\":\"GDP_per_capita\"},\"y\":{\"field\":\"CO2_per_capita\"}},\"id\":\"2514\",\"type\":\"Scatter\"},{\"attributes\":{},\"id\":\"2498\",\"type\":\"WheelZoomTool\"},{\"attributes\":{\"label\":{\"value\":\"Data\"},\"renderers\":[{\"id\":\"2515\"}]},\"id\":\"2529\",\"type\":\"LegendItem\"},{\"attributes\":{},\"id\":\"2497\",\"type\":\"PanTool\"},{\"attributes\":{\"source\":{\"id\":\"2145\"}},\"id\":\"2516\",\"type\":\"CDSView\"},{\"attributes\":{\"overlay\":{\"id\":\"2503\"}},\"id\":\"2499\",\"type\":\"BoxZoomTool\"},{\"attributes\":{},\"id\":\"2500\",\"type\":\"SaveTool\"},{\"attributes\":{\"coordinates\":null,\"group\":null,\"text\":\"Correlation between CO2 per capita and GDP per capita\"},\"id\":\"2517\",\"type\":\"Title\"},{\"attributes\":{},\"id\":\"2501\",\"type\":\"ResetTool\"},{\"attributes\":{},\"id\":\"2193\",\"type\":\"UnionRenderers\"},{\"attributes\":{\"bottom_units\":\"screen\",\"coordinates\":null,\"fill_alpha\":0.5,\"fill_color\":\"lightgrey\",\"group\":null,\"left_units\":\"screen\",\"level\":\"overlay\",\"line_alpha\":1.0,\"line_color\":\"black\",\"line_dash\":[4,4],\"line_width\":2,\"right_units\":\"screen\",\"syncable\":false,\"top_units\":\"screen\"},\"id\":\"2503\",\"type\":\"BoxAnnotation\"},{\"attributes\":{\"line_alpha\":0.2,\"line_color\":\"orange\",\"line_width\":2,\"x\":{\"field\":\"x\"},\"y\":{\"field\":\"y\"}},\"id\":\"2533\",\"type\":\"Line\"},{\"attributes\":{\"source\":{\"id\":\"2530\"}},\"id\":\"2535\",\"type\":\"CDSView\"},{\"attributes\":{},\"id\":\"2194\",\"type\":\"Selection\"},{\"attributes\":{\"callback\":null,\"tooltips\":[[\"GDP per capita\",\"@GDP_per_capita\"],[\"CO2 per capita\",\"@CO2_per_capita\"]]},\"id\":\"2551\",\"type\":\"HoverTool\"},{\"attributes\":{\"label\":{\"value\":\"Linear Regression Model\"},\"renderers\":[{\"id\":\"2534\"}]},\"id\":\"2549\",\"type\":\"LegendItem\"},{\"attributes\":{\"line_color\":\"orange\",\"line_width\":2,\"x\":{\"field\":\"x\"},\"y\":{\"field\":\"y\"}},\"id\":\"2531\",\"type\":\"Line\"},{\"attributes\":{},\"id\":\"2481\",\"type\":\"DataRange1d\"},{\"attributes\":{\"line_alpha\":0.1,\"line_color\":\"orange\",\"line_width\":2,\"x\":{\"field\":\"x\"},\"y\":{\"field\":\"y\"}},\"id\":\"2532\",\"type\":\"Line\"},{\"attributes\":{},\"id\":\"2483\",\"type\":\"DataRange1d\"},{\"attributes\":{\"axis_label\":\"GDP per capita\",\"coordinates\":null,\"formatter\":{\"id\":\"2523\"},\"group\":null,\"major_label_policy\":{\"id\":\"2524\"},\"ticker\":{\"id\":\"2490\"}},\"id\":\"2489\",\"type\":\"LinearAxis\"},{\"attributes\":{},\"id\":\"2547\",\"type\":\"Selection\"},{\"attributes\":{\"coordinates\":null,\"data_source\":{\"id\":\"2530\"},\"glyph\":{\"id\":\"2531\"},\"group\":null,\"hover_glyph\":null,\"muted_glyph\":{\"id\":\"2533\"},\"nonselection_glyph\":{\"id\":\"2532\"},\"view\":{\"id\":\"2535\"}},\"id\":\"2534\",\"type\":\"GlyphRenderer\"},{\"attributes\":{},\"id\":\"2487\",\"type\":\"LinearScale\"},{\"attributes\":{\"data\":{\"CO2\":{\"__ndarray__\":\"Aket6LwDI0B7xggiJnAjQL3j8s3YcSNAp861VXjTJUDiqNJYejcmQEi4pIQxUyVAjMqDb+D8JEAnPgab7BokQCEK4bFL3iJAUurzaNkYI0DwjAR0COokQIcd1gVpUCRARmYbq2/GI0A+EAgsLYwiQOmcmTKCBCNA+GUfc/BMIUBS/gUP5eMgQICqMsZusCBAjmxrBYvBH0DqF2XPMiQfQE/sCSwltSBAFfS3nP5FIUAbQJjgvHIgQK4s5/X2QyBAwFd9Yh08IED+HIpIYGogQA==\",\"dtype\":\"float64\",\"order\":\"little\",\"shape\":[26]},\"CO2_per_capita\":{\"__ndarray__\":\"NM7ABlMsyj7H42/CZAHKPqeKLDiRPsk+KrGUJM+gyz4Tb9h4F0HLPqG3BPCoYMk+rwvelEf7xz6vud2N6zbGPmTfQj3OJsQ+Y4yzDcg7xD5MhGzIPcfFPoSP3Jsnl8Q+9YzYu6/cwz631z484+fCPl/deenNJMM+BD4hb78CwT5q8ZpzehjAPqWvgn6cgr4+c0EOxd+Fuz4KNBQ8OjC6PhKKCFZmm7s+J0X8cfvzuz5MFvYO+Pi5Pmsg23l/Rbk+HtV22//luD6NY7Mv8OC4Pg==\",\"dtype\":\"float64\",\"order\":\"little\",\"shape\":[26]},\"GDP\":{\"__ndarray__\":\"IpXSyeAqx0D7iaOjMFPMQHJ/kfL0g89A6oSjzoHc0UAbbUL6QQzVQNNVA1KaVNhAAQXXP2ie2UBBHG80/sHZQCf2EDFTUdVAEn5mZwVJ1UDIWgnuFEvXQK5PbkgBMdVAa/xVFuyj1UAULLzBiSzXQFd8SmQi9tpAyrCJ2VBC3UBd+ufuJH3gQFJF9QYeQeNA7RcwBO+I40BXhcae5gHjQFrKPbqeEOdAjMohuE1Q6kAt5RuiTx/rQKvRGqDt0OtANDZD/FAb7ECdZ8bM0yvrQA==\",\"dtype\":\"float64\",\"order\":\"little\",\"shape\":[26]},\"GDP_per_capita\":{\"__ndarray__\":\"uSKOEbbjbz+dKYppivJyP4xIAeEsdXQ/ZmSs2Aicdj9RbV5DBtJ5P5ioeb1J9Hw/E5r47epFfT+ZKUVUz3V8PxZjy7d6xHY/VwK87EmNdj9h/+4idEF4P8v36wbOenU/0jr1ZkW8dT8nx3gSIJ93P+KlZp3rI3s/pyWyddfEfD/Fo8aXH21/P+ugSdKPmYE/jPMLBU/ugD8P9yGo9/d/P1gQXkNKDoM/XuOybZRKhT+DV/im62mFP7rjaNDYm4U/dokVpYaNhT9KAm15+ZaEPw==\",\"dtype\":\"float64\",\"order\":\"little\",\"shape\":[26]},\"POP\":{\"__ndarray__\":\"AAAAAG4/R0EAAACANetHQQAAAAD1pUhBAAAAgJ9HSUEAAAAA1BVKQQAAAADN40pBAAAAAFgBTEEAAAAAI/ZMQQAAAIBW9k1BAAAAgOEzTkEAAACA97pOQQAAAAAOkk9BAAAAACfcT0EAAAAAxWRPQQAAAAAEyk9BAAAAgMhFUEEAAABANcpQQQAAAMANgVFBAAAAAPl1UkEAAABArQZTQQAAAAC/XVNBAAAAADLGU0EAAABA7UNUQQAAAICemFRBAAAAAIfdVEEAAACARh1VQQ==\",\"dtype\":\"float64\",\"order\":\"little\",\"shape\":[26]},\"Year\":{\"__ndarray__\":\"AACA53JeYkIAAAANaUljQgAAgDJfNGRCAACAI/ofZUIAAABJ8ApmQgAAgG7m9WZCAAAAlNzgZ0IAAACFd8xoQgAAgKptt2lCAAAA0GOiakIAAID1WY1rQgAAgOb0eGxCAAAADOtjbUIAAIAx4U5uQgAAAFfXOW9CAAAAJLkScEIAAMA2NIhwQgAAgEmv/XBCAABAXCpzcUIAAMDU9+hxQgAAgOdyXnJCAABA+u3TckIAAAANaUlzQgAAgIU2v3NCAABAmLE0dEIAAACrLKp0Qg==\",\"dtype\":\"float64\",\"order\":\"little\",\"shape\":[26]}},\"selected\":{\"id\":\"2194\"},\"selection_policy\":{\"id\":\"2193\"}},\"id\":\"2145\",\"type\":\"ColumnDataSource\"},{\"attributes\":{\"axis_label\":\"CO2 per capita\",\"coordinates\":null,\"formatter\":{\"id\":\"2520\"},\"group\":null,\"major_label_policy\":{\"id\":\"2521\"},\"ticker\":{\"id\":\"2494\"}},\"id\":\"2493\",\"type\":\"LinearAxis\"},{\"attributes\":{},\"id\":\"2490\",\"type\":\"BasicTicker\"},{\"attributes\":{},\"id\":\"2502\",\"type\":\"HelpTool\"},{\"attributes\":{\"tools\":[{\"id\":\"2497\"},{\"id\":\"2498\"},{\"id\":\"2499\"},{\"id\":\"2500\"},{\"id\":\"2501\"},{\"id\":\"2502\"},{\"id\":\"2551\"}]},\"id\":\"2504\",\"type\":\"Toolbar\"},{\"attributes\":{},\"id\":\"2546\",\"type\":\"UnionRenderers\"},{\"attributes\":{},\"id\":\"2485\",\"type\":\"LinearScale\"},{\"attributes\":{\"fill_color\":{\"value\":\"blue\"},\"hatch_color\":{\"value\":\"blue\"},\"line_color\":{\"value\":\"blue\"},\"x\":{\"field\":\"GDP_per_capita\"},\"y\":{\"field\":\"CO2_per_capita\"}},\"id\":\"2512\",\"type\":\"Scatter\"},{\"attributes\":{\"data\":{\"x\":{\"__ndarray__\":\"uSKOEbbjbz+dKYppivJyP4xIAeEsdXQ/ZmSs2Aicdj9RbV5DBtJ5P5ioeb1J9Hw/E5r47epFfT+ZKUVUz3V8PxZjy7d6xHY/VwK87EmNdj9h/+4idEF4P8v36wbOenU/0jr1ZkW8dT8nx3gSIJ93P+KlZp3rI3s/pyWyddfEfD/Fo8aXH21/P+ugSdKPmYE/jPMLBU/ugD8P9yGo9/d/P1gQXkNKDoM/XuOybZRKhT+DV/im62mFP7rjaNDYm4U/dokVpYaNhT9KAm15+ZaEPw==\",\"dtype\":\"float64\",\"order\":\"little\",\"shape\":[26]},\"y\":{\"__ndarray__\":\"vGn+qhAYyj76IA5nzY3IPtSl885+x8c+yhJU5vSsxj4FIryBWgfFPmpXZEHea8M+a5kn+f9Bwz4qUpBRvazDPqIJuFc2mMY+oJjbE4W0xj4APyL5ztTFPulIW91NQcc+TM/U47kfxz7kVgBOESjGPvRiJ34LWsQ+mBMUJjSEwz47L26SSCfCPlnkDhXRN8A+mfArdH3nwD5KRQXUEeDBPsz40Jzvcr0+0GnyX9DcuD4yAx/Bg5y4PkCM/KQVNrg+yhOyPHdTuD58gkrMS026Pg==\",\"dtype\":\"float64\",\"order\":\"little\",\"shape\":[26]}},\"selected\":{\"id\":\"2547\"},\"selection_policy\":{\"id\":\"2546\"}},\"id\":\"2530\",\"type\":\"ColumnDataSource\"}],\"root_ids\":[\"2480\"]},\"title\":\"Bokeh Application\",\"version\":\"2.4.3\"}};\n  const render_items = [{\"docid\":\"932402df-0b5b-49aa-a606-c3a670d9893a\",\"root_ids\":[\"2480\"],\"roots\":{\"2480\":\"d1182f65-7957-49e5-9a3a-58056f4bfe08\"}}];\n  root.Bokeh.embed.embed_items_notebook(docs_json, render_items);\n  }\n  if (root.Bokeh !== undefined) {\n    embed_document(root);\n  } else {\n    let attempts = 0;\n    const timer = setInterval(function(root) {\n      if (root.Bokeh !== undefined) {\n        clearInterval(timer);\n        embed_document(root);\n      } else {\n        attempts++;\n        if (attempts > 100) {\n          clearInterval(timer);\n          console.log(\"Bokeh: ERROR: Unable to run BokehJS code because BokehJS library is missing\");\n        }\n      }\n    }, 10, root)\n  }\n})(window);",
      "application/vnd.bokehjs_exec.v0+json": ""
     },
     "metadata": {
      "application/vnd.bokehjs_exec.v0+json": {
       "id": "2480"
      }
     },
     "output_type": "display_data"
    }
   ],
   "source": [
    "### Make Linear Regression Model for CO2 emissions per capita in Singapore\n",
    "X = df_sing['GDP_per_capita'].values.reshape(-1, 1)\n",
    "y = df_sing['CO2_per_capita'].values.reshape(-1, 1)\n",
    "\n",
    "model = LinearRegression().fit(X, y)\n",
    "coefficients = model.coef_\n",
    "print(coefficients)\n",
    "intercept = model.intercept_\n",
    "linear_model = model.predict(X)\n",
    "print('The linear regression model is: y = {}x + {}'.format(coefficients[0][0], intercept[0]))\n",
    "\n",
    "### Make scatter plot of CO2 per capita vs GDP per capita\n",
    "sct = figure(plot_width=800, plot_height=400)\n",
    "sct.scatter(x='GDP_per_capita', y='CO2_per_capita', source=source, color='blue', legend_label='Data')\n",
    "sct.line(x=X[:,0], y=linear_model[:,0], line_width=2, line_color='orange', legend_label='Linear Regression Model')\n",
    "sct.title.text = 'Correlation between CO2 per capita and GDP per capita'\n",
    "sct.xaxis.axis_label = 'GDP per capita'\n",
    "sct.yaxis.axis_label = 'CO2 per capita'\n",
    "\n",
    "hover = HoverTool()\n",
    "hover.tooltips = [\n",
    "    ('GDP per capita', '@GDP_per_capita'),\n",
    "    ('CO2 per capita', '@CO2_per_capita')\n",
    "]\n",
    "\n",
    "sct.add_tools(hover)\n",
    "\n",
    "show(sct)"
   ]
  },
  {
   "attachments": {},
   "cell_type": "markdown",
   "metadata": {},
   "source": [
    "Wow! Scatter plots and linear models show that they also show an inverse correlation. Shall we fit only the quadratic model like in Malaysia?"
   ]
  },
  {
   "cell_type": "code",
   "execution_count": 15,
   "metadata": {},
   "outputs": [
    {
     "name": "stdout",
     "output_type": "stream",
     "text": [
      "The quadratic regression model is: y = 0.00308204402384666x^2 + -0.0002972468698183287x + 4.250618518544883e-06\n"
     ]
    },
    {
     "data": {
      "text/html": [
       "\n",
       "  <div class=\"bk-root\" id=\"bc4a74d2-a4a3-4af8-8f25-6a91a4cef044\" data-root-id=\"2736\"></div>\n"
      ]
     },
     "metadata": {},
     "output_type": "display_data"
    },
    {
     "data": {
      "application/javascript": "(function(root) {\n  function embed_document(root) {\n  const docs_json = {\"bff85694-b81b-4dd0-9dd6-0f3c0b856583\":{\"defs\":[],\"roots\":{\"references\":[{\"attributes\":{\"below\":[{\"id\":\"2745\"}],\"center\":[{\"id\":\"2748\"},{\"id\":\"2752\"},{\"id\":\"2784\"}],\"height\":400,\"left\":[{\"id\":\"2749\"}],\"renderers\":[{\"id\":\"2771\"},{\"id\":\"2790\"},{\"id\":\"2810\"}],\"title\":{\"id\":\"2773\"},\"toolbar\":{\"id\":\"2760\"},\"width\":800,\"x_range\":{\"id\":\"2737\"},\"x_scale\":{\"id\":\"2741\"},\"y_range\":{\"id\":\"2739\"},\"y_scale\":{\"id\":\"2743\"}},\"id\":\"2736\",\"subtype\":\"Figure\",\"type\":\"Plot\"},{\"attributes\":{\"fill_alpha\":{\"value\":0.2},\"fill_color\":{\"value\":\"blue\"},\"hatch_alpha\":{\"value\":0.2},\"hatch_color\":{\"value\":\"blue\"},\"line_alpha\":{\"value\":0.2},\"line_color\":{\"value\":\"blue\"},\"x\":{\"field\":\"GDP_per_capita\"},\"y\":{\"field\":\"CO2_per_capita\"}},\"id\":\"2770\",\"type\":\"Scatter\"},{\"attributes\":{},\"id\":\"2758\",\"type\":\"HelpTool\"},{\"attributes\":{\"coordinates\":null,\"group\":null,\"items\":[{\"id\":\"2785\"},{\"id\":\"2805\"},{\"id\":\"2827\"}]},\"id\":\"2784\",\"type\":\"Legend\"},{\"attributes\":{\"label\":{\"value\":\"Data\"},\"renderers\":[{\"id\":\"2771\"}]},\"id\":\"2785\",\"type\":\"LegendItem\"},{\"attributes\":{},\"id\":\"2757\",\"type\":\"ResetTool\"},{\"attributes\":{\"label\":{\"value\":\"Quadratic Regression Model\"},\"renderers\":[{\"id\":\"2810\"}]},\"id\":\"2827\",\"type\":\"LegendItem\"},{\"attributes\":{\"callback\":null,\"tooltips\":[[\"GDP per capita\",\"@GDP_per_capita\"],[\"CO2 per capita\",\"@CO2_per_capita\"]]},\"id\":\"2829\",\"type\":\"HoverTool\"},{\"attributes\":{\"coordinates\":null,\"group\":null,\"text\":\"Correlation between CO2 per capita and GDP per capita\"},\"id\":\"2773\",\"type\":\"Title\"},{\"attributes\":{\"bottom_units\":\"screen\",\"coordinates\":null,\"fill_alpha\":0.5,\"fill_color\":\"lightgrey\",\"group\":null,\"left_units\":\"screen\",\"level\":\"overlay\",\"line_alpha\":1.0,\"line_color\":\"black\",\"line_dash\":[4,4],\"line_width\":2,\"right_units\":\"screen\",\"syncable\":false,\"top_units\":\"screen\"},\"id\":\"2759\",\"type\":\"BoxAnnotation\"},{\"attributes\":{},\"id\":\"2825\",\"type\":\"Selection\"},{\"attributes\":{\"coordinates\":null,\"data_source\":{\"id\":\"2786\"},\"glyph\":{\"id\":\"2787\"},\"group\":null,\"hover_glyph\":null,\"muted_glyph\":{\"id\":\"2789\"},\"nonselection_glyph\":{\"id\":\"2788\"},\"view\":{\"id\":\"2791\"}},\"id\":\"2790\",\"type\":\"GlyphRenderer\"},{\"attributes\":{\"line_alpha\":0.2,\"line_color\":\"green\",\"line_width\":2,\"x\":{\"field\":\"x\"},\"y\":{\"field\":\"y\"}},\"id\":\"2809\",\"type\":\"Line\"},{\"attributes\":{},\"id\":\"2802\",\"type\":\"UnionRenderers\"},{\"attributes\":{\"data\":{\"x\":{\"__ndarray__\":\"uSKOEbbjbz+dKYppivJyP4xIAeEsdXQ/ZmSs2Aicdj9RbV5DBtJ5P5ioeb1J9Hw/E5r47epFfT+ZKUVUz3V8PxZjy7d6xHY/VwK87EmNdj9h/+4idEF4P8v36wbOenU/0jr1ZkW8dT8nx3gSIJ93P+KlZp3rI3s/pyWyddfEfD/Fo8aXH21/P+ugSdKPmYE/jPMLBU/ugD8P9yGo9/d/P1gQXkNKDoM/XuOybZRKhT+DV/im62mFP7rjaNDYm4U/dokVpYaNhT9KAm15+ZaEPw==\",\"dtype\":\"float64\",\"order\":\"little\",\"shape\":[26]},\"y\":{\"__ndarray__\":\"YiBDkI1Xyj5k+std8KzIPgzw/nYM2cc+jVj4EkSuxj4qhdRnN/fEPjkjtiKMUsM+rDuv0y0owz6LOVYgWpTDPrqStAx5mMY+h/v+Yje2xj7Imq07KMzFPkNwBdmvSsc+7i6JezEnxz7Pr033/yLGPkB2MWUYRcQ+nyVr4TVrwz416Zx3LwzCPjcivodNI8A+MqAUL1vPwD6nEHYCOsXBProV/xduY70+pi/A8YkOuT62GScOudK4PlA2R1Ohc7g+MJmM1eGOuD7uKG4aJ2e6Pg==\",\"dtype\":\"float64\",\"order\":\"little\",\"shape\":[26]}},\"selected\":{\"id\":\"2825\"},\"selection_policy\":{\"id\":\"2824\"}},\"id\":\"2806\",\"type\":\"ColumnDataSource\"},{\"attributes\":{\"line_color\":\"green\",\"line_width\":2,\"x\":{\"field\":\"x\"},\"y\":{\"field\":\"y\"}},\"id\":\"2807\",\"type\":\"Line\"},{\"attributes\":{\"source\":{\"id\":\"2806\"}},\"id\":\"2811\",\"type\":\"CDSView\"},{\"attributes\":{\"source\":{\"id\":\"2786\"}},\"id\":\"2791\",\"type\":\"CDSView\"},{\"attributes\":{\"line_alpha\":0.1,\"line_color\":\"green\",\"line_width\":2,\"x\":{\"field\":\"x\"},\"y\":{\"field\":\"y\"}},\"id\":\"2808\",\"type\":\"Line\"},{\"attributes\":{},\"id\":\"2193\",\"type\":\"UnionRenderers\"},{\"attributes\":{\"line_alpha\":0.2,\"line_color\":\"orange\",\"line_width\":2,\"x\":{\"field\":\"x\"},\"y\":{\"field\":\"y\"}},\"id\":\"2789\",\"type\":\"Line\"},{\"attributes\":{\"line_color\":\"orange\",\"line_width\":2,\"x\":{\"field\":\"x\"},\"y\":{\"field\":\"y\"}},\"id\":\"2787\",\"type\":\"Line\"},{\"attributes\":{},\"id\":\"2776\",\"type\":\"BasicTickFormatter\"},{\"attributes\":{},\"id\":\"2824\",\"type\":\"UnionRenderers\"},{\"attributes\":{\"line_alpha\":0.1,\"line_color\":\"orange\",\"line_width\":2,\"x\":{\"field\":\"x\"},\"y\":{\"field\":\"y\"}},\"id\":\"2788\",\"type\":\"Line\"},{\"attributes\":{},\"id\":\"2194\",\"type\":\"Selection\"},{\"attributes\":{},\"id\":\"2803\",\"type\":\"Selection\"},{\"attributes\":{\"label\":{\"value\":\"Linear Regression Model\"},\"renderers\":[{\"id\":\"2790\"}]},\"id\":\"2805\",\"type\":\"LegendItem\"},{\"attributes\":{},\"id\":\"2737\",\"type\":\"DataRange1d\"},{\"attributes\":{\"axis_label\":\"CO2 per capita\",\"coordinates\":null,\"formatter\":{\"id\":\"2776\"},\"group\":null,\"major_label_policy\":{\"id\":\"2777\"},\"ticker\":{\"id\":\"2750\"}},\"id\":\"2749\",\"type\":\"LinearAxis\"},{\"attributes\":{\"fill_color\":{\"value\":\"blue\"},\"hatch_color\":{\"value\":\"blue\"},\"line_color\":{\"value\":\"blue\"},\"x\":{\"field\":\"GDP_per_capita\"},\"y\":{\"field\":\"CO2_per_capita\"}},\"id\":\"2768\",\"type\":\"Scatter\"},{\"attributes\":{},\"id\":\"2780\",\"type\":\"AllLabels\"},{\"attributes\":{\"source\":{\"id\":\"2145\"}},\"id\":\"2772\",\"type\":\"CDSView\"},{\"attributes\":{\"data\":{\"x\":{\"__ndarray__\":\"uSKOEbbjbz+dKYppivJyP4xIAeEsdXQ/ZmSs2Aicdj9RbV5DBtJ5P5ioeb1J9Hw/E5r47epFfT+ZKUVUz3V8PxZjy7d6xHY/VwK87EmNdj9h/+4idEF4P8v36wbOenU/0jr1ZkW8dT8nx3gSIJ93P+KlZp3rI3s/pyWyddfEfD/Fo8aXH21/P+ugSdKPmYE/jPMLBU/ugD8P9yGo9/d/P1gQXkNKDoM/XuOybZRKhT+DV/im62mFP7rjaNDYm4U/dokVpYaNhT9KAm15+ZaEPw==\",\"dtype\":\"float64\",\"order\":\"little\",\"shape\":[26]},\"y\":{\"__ndarray__\":\"vGn+qhAYyj76IA5nzY3IPtSl885+x8c+yhJU5vSsxj4FIryBWgfFPmpXZEHea8M+a5kn+f9Bwz4qUpBRvazDPqIJuFc2mMY+oJjbE4W0xj4APyL5ztTFPulIW91NQcc+TM/U47kfxz7kVgBOESjGPvRiJ34LWsQ+mBMUJjSEwz47L26SSCfCPlnkDhXRN8A+mfArdH3nwD5KRQXUEeDBPsz40Jzvcr0+0GnyX9DcuD4yAx/Bg5y4PkCM/KQVNrg+yhOyPHdTuD58gkrMS026Pg==\",\"dtype\":\"float64\",\"order\":\"little\",\"shape\":[26]}},\"selected\":{\"id\":\"2803\"},\"selection_policy\":{\"id\":\"2802\"}},\"id\":\"2786\",\"type\":\"ColumnDataSource\"},{\"attributes\":{\"coordinates\":null,\"data_source\":{\"id\":\"2806\"},\"glyph\":{\"id\":\"2807\"},\"group\":null,\"hover_glyph\":null,\"muted_glyph\":{\"id\":\"2809\"},\"nonselection_glyph\":{\"id\":\"2808\"},\"view\":{\"id\":\"2811\"}},\"id\":\"2810\",\"type\":\"GlyphRenderer\"},{\"attributes\":{},\"id\":\"2739\",\"type\":\"DataRange1d\"},{\"attributes\":{\"axis_label\":\"GDP per capita\",\"coordinates\":null,\"formatter\":{\"id\":\"2779\"},\"group\":null,\"major_label_policy\":{\"id\":\"2780\"},\"ticker\":{\"id\":\"2746\"}},\"id\":\"2745\",\"type\":\"LinearAxis\"},{\"attributes\":{},\"id\":\"2743\",\"type\":\"LinearScale\"},{\"attributes\":{},\"id\":\"2779\",\"type\":\"BasicTickFormatter\"},{\"attributes\":{},\"id\":\"2741\",\"type\":\"LinearScale\"},{\"attributes\":{\"coordinates\":null,\"data_source\":{\"id\":\"2145\"},\"glyph\":{\"id\":\"2768\"},\"group\":null,\"hover_glyph\":null,\"muted_glyph\":{\"id\":\"2770\"},\"nonselection_glyph\":{\"id\":\"2769\"},\"view\":{\"id\":\"2772\"}},\"id\":\"2771\",\"type\":\"GlyphRenderer\"},{\"attributes\":{\"overlay\":{\"id\":\"2759\"}},\"id\":\"2755\",\"type\":\"BoxZoomTool\"},{\"attributes\":{},\"id\":\"2746\",\"type\":\"BasicTicker\"},{\"attributes\":{\"axis\":{\"id\":\"2745\"},\"coordinates\":null,\"group\":null,\"ticker\":null},\"id\":\"2748\",\"type\":\"Grid\"},{\"attributes\":{\"fill_alpha\":{\"value\":0.1},\"fill_color\":{\"value\":\"blue\"},\"hatch_alpha\":{\"value\":0.1},\"hatch_color\":{\"value\":\"blue\"},\"line_alpha\":{\"value\":0.1},\"line_color\":{\"value\":\"blue\"},\"x\":{\"field\":\"GDP_per_capita\"},\"y\":{\"field\":\"CO2_per_capita\"}},\"id\":\"2769\",\"type\":\"Scatter\"},{\"attributes\":{\"data\":{\"CO2\":{\"__ndarray__\":\"Aket6LwDI0B7xggiJnAjQL3j8s3YcSNAp861VXjTJUDiqNJYejcmQEi4pIQxUyVAjMqDb+D8JEAnPgab7BokQCEK4bFL3iJAUurzaNkYI0DwjAR0COokQIcd1gVpUCRARmYbq2/GI0A+EAgsLYwiQOmcmTKCBCNA+GUfc/BMIUBS/gUP5eMgQICqMsZusCBAjmxrBYvBH0DqF2XPMiQfQE/sCSwltSBAFfS3nP5FIUAbQJjgvHIgQK4s5/X2QyBAwFd9Yh08IED+HIpIYGogQA==\",\"dtype\":\"float64\",\"order\":\"little\",\"shape\":[26]},\"CO2_per_capita\":{\"__ndarray__\":\"NM7ABlMsyj7H42/CZAHKPqeKLDiRPsk+KrGUJM+gyz4Tb9h4F0HLPqG3BPCoYMk+rwvelEf7xz6vud2N6zbGPmTfQj3OJsQ+Y4yzDcg7xD5MhGzIPcfFPoSP3Jsnl8Q+9YzYu6/cwz631z484+fCPl/deenNJMM+BD4hb78CwT5q8ZpzehjAPqWvgn6cgr4+c0EOxd+Fuz4KNBQ8OjC6PhKKCFZmm7s+J0X8cfvzuz5MFvYO+Pi5Pmsg23l/Rbk+HtV22//luD6NY7Mv8OC4Pg==\",\"dtype\":\"float64\",\"order\":\"little\",\"shape\":[26]},\"GDP\":{\"__ndarray__\":\"IpXSyeAqx0D7iaOjMFPMQHJ/kfL0g89A6oSjzoHc0UAbbUL6QQzVQNNVA1KaVNhAAQXXP2ie2UBBHG80/sHZQCf2EDFTUdVAEn5mZwVJ1UDIWgnuFEvXQK5PbkgBMdVAa/xVFuyj1UAULLzBiSzXQFd8SmQi9tpAyrCJ2VBC3UBd+ufuJH3gQFJF9QYeQeNA7RcwBO+I40BXhcae5gHjQFrKPbqeEOdAjMohuE1Q6kAt5RuiTx/rQKvRGqDt0OtANDZD/FAb7ECdZ8bM0yvrQA==\",\"dtype\":\"float64\",\"order\":\"little\",\"shape\":[26]},\"GDP_per_capita\":{\"__ndarray__\":\"uSKOEbbjbz+dKYppivJyP4xIAeEsdXQ/ZmSs2Aicdj9RbV5DBtJ5P5ioeb1J9Hw/E5r47epFfT+ZKUVUz3V8PxZjy7d6xHY/VwK87EmNdj9h/+4idEF4P8v36wbOenU/0jr1ZkW8dT8nx3gSIJ93P+KlZp3rI3s/pyWyddfEfD/Fo8aXH21/P+ugSdKPmYE/jPMLBU/ugD8P9yGo9/d/P1gQXkNKDoM/XuOybZRKhT+DV/im62mFP7rjaNDYm4U/dokVpYaNhT9KAm15+ZaEPw==\",\"dtype\":\"float64\",\"order\":\"little\",\"shape\":[26]},\"POP\":{\"__ndarray__\":\"AAAAAG4/R0EAAACANetHQQAAAAD1pUhBAAAAgJ9HSUEAAAAA1BVKQQAAAADN40pBAAAAAFgBTEEAAAAAI/ZMQQAAAIBW9k1BAAAAgOEzTkEAAACA97pOQQAAAAAOkk9BAAAAACfcT0EAAAAAxWRPQQAAAAAEyk9BAAAAgMhFUEEAAABANcpQQQAAAMANgVFBAAAAAPl1UkEAAABArQZTQQAAAAC/XVNBAAAAADLGU0EAAABA7UNUQQAAAICemFRBAAAAAIfdVEEAAACARh1VQQ==\",\"dtype\":\"float64\",\"order\":\"little\",\"shape\":[26]},\"Year\":{\"__ndarray__\":\"AACA53JeYkIAAAANaUljQgAAgDJfNGRCAACAI/ofZUIAAABJ8ApmQgAAgG7m9WZCAAAAlNzgZ0IAAACFd8xoQgAAgKptt2lCAAAA0GOiakIAAID1WY1rQgAAgOb0eGxCAAAADOtjbUIAAIAx4U5uQgAAAFfXOW9CAAAAJLkScEIAAMA2NIhwQgAAgEmv/XBCAABAXCpzcUIAAMDU9+hxQgAAgOdyXnJCAABA+u3TckIAAAANaUlzQgAAgIU2v3NCAABAmLE0dEIAAACrLKp0Qg==\",\"dtype\":\"float64\",\"order\":\"little\",\"shape\":[26]}},\"selected\":{\"id\":\"2194\"},\"selection_policy\":{\"id\":\"2193\"}},\"id\":\"2145\",\"type\":\"ColumnDataSource\"},{\"attributes\":{\"axis\":{\"id\":\"2749\"},\"coordinates\":null,\"dimension\":1,\"group\":null,\"ticker\":null},\"id\":\"2752\",\"type\":\"Grid\"},{\"attributes\":{},\"id\":\"2750\",\"type\":\"BasicTicker\"},{\"attributes\":{},\"id\":\"2756\",\"type\":\"SaveTool\"},{\"attributes\":{},\"id\":\"2754\",\"type\":\"WheelZoomTool\"},{\"attributes\":{\"tools\":[{\"id\":\"2753\"},{\"id\":\"2754\"},{\"id\":\"2755\"},{\"id\":\"2756\"},{\"id\":\"2757\"},{\"id\":\"2758\"},{\"id\":\"2829\"}]},\"id\":\"2760\",\"type\":\"Toolbar\"},{\"attributes\":{},\"id\":\"2753\",\"type\":\"PanTool\"},{\"attributes\":{},\"id\":\"2777\",\"type\":\"AllLabels\"}],\"root_ids\":[\"2736\"]},\"title\":\"Bokeh Application\",\"version\":\"2.4.3\"}};\n  const render_items = [{\"docid\":\"bff85694-b81b-4dd0-9dd6-0f3c0b856583\",\"root_ids\":[\"2736\"],\"roots\":{\"2736\":\"bc4a74d2-a4a3-4af8-8f25-6a91a4cef044\"}}];\n  root.Bokeh.embed.embed_items_notebook(docs_json, render_items);\n  }\n  if (root.Bokeh !== undefined) {\n    embed_document(root);\n  } else {\n    let attempts = 0;\n    const timer = setInterval(function(root) {\n      if (root.Bokeh !== undefined) {\n        clearInterval(timer);\n        embed_document(root);\n      } else {\n        attempts++;\n        if (attempts > 100) {\n          clearInterval(timer);\n          console.log(\"Bokeh: ERROR: Unable to run BokehJS code because BokehJS library is missing\");\n        }\n      }\n    }, 10, root)\n  }\n})(window);",
      "application/vnd.bokehjs_exec.v0+json": ""
     },
     "metadata": {
      "application/vnd.bokehjs_exec.v0+json": {
       "id": "2736"
      }
     },
     "output_type": "display_data"
    }
   ],
   "source": [
    "### Make Quadratic Regression Model for CO2 emissions per capita in Singapore\n",
    "X = df_sing['GDP_per_capita'].values.reshape(-1, 1)\n",
    "y = df_sing['CO2_per_capita'].values.reshape(-1, 1)\n",
    "\n",
    "degree = 2\n",
    "model_2 = make_pipeline(PolynomialFeatures(degree), LinearRegression())\n",
    "model_2.fit(X, y)\n",
    "quad_model = model_2.predict(X)\n",
    "print('The quadratic regression model is: y = {}x^2 + {}x + {}'.format(model_2.steps[1][1].coef_[0][2], model_2.steps[1][1].coef_[0][1], model_2.steps[1][1].intercept_[0]))\n",
    "\n",
    "### Make scatter plot of CO2 per capita vs GDP per capita\n",
    "sct = figure(plot_width=800, plot_height=400)\n",
    "sct.scatter(x='GDP_per_capita', y='CO2_per_capita', source=source, color='blue', legend_label='Data')\n",
    "sct.line(x=X[:,0], y=linear_model[:,0], line_width=2, line_color='orange', legend_label='Linear Regression Model')\n",
    "sct.line(x=X[:,0], y=quad_model[:,0], line_width=2, line_color='green', legend_label='Quadratic Regression Model')\n",
    "sct.title.text = 'Correlation between CO2 per capita and GDP per capita'\n",
    "sct.xaxis.axis_label = 'GDP per capita'\n",
    "sct.yaxis.axis_label = 'CO2 per capita'\n",
    "\n",
    "hover = HoverTool()\n",
    "hover.tooltips = [\n",
    "    ('GDP per capita', '@GDP_per_capita'),\n",
    "    ('CO2 per capita', '@CO2_per_capita')\n",
    "]\n",
    "\n",
    "sct.add_tools(hover)\n",
    "\n",
    "show(sct)\n"
   ]
  },
  {
   "attachments": {},
   "cell_type": "markdown",
   "metadata": {},
   "source": [
    "This time, we visually confirmed that there is little difference between the linear model and the quadratic model. Let's not try to find a significant difference in the RMSE."
   ]
  },
  {
   "attachments": {},
   "cell_type": "markdown",
   "metadata": {},
   "source": [
    "### Plotting auto-correlation chart of Singapore's CO2 emission data with statsmodels package"
   ]
  },
  {
   "attachments": {},
   "cell_type": "markdown",
   "metadata": {},
   "source": [
    "I will try to figure out the auto-correlation of Singapore data and even try to predict the CO2 emission emission through autoregression."
   ]
  },
  {
   "cell_type": "code",
   "execution_count": 16,
   "metadata": {},
   "outputs": [],
   "source": [
    "### Make 3 df of Singapore (CO2, GDP, POP)\n",
    "df_co2_sing = pd.DataFrame(df_co2_SEA.set_index('Year')['Singapore']).rename(columns={'Singapore':'CO2'})\n",
    "df_gdp_sing = pd.DataFrame(df_gdp_SEA.set_index('Year')['Singapore']).rename(columns={'Singapore':'GDP'})\n",
    "df_pop_sing = pd.DataFrame(df_pop_SEA.set_index('Year')['Singapore']).rename(columns={'Singapore':'POP'})\n",
    "\n",
    "### Concatenate 3 df into 1 df\n",
    "df_sing = pd.concat([df_co2_sing, df_gdp_sing, df_pop_sing], axis=1)\n",
    "\n",
    "### Calculate the per capita CO2 emissions\n",
    "df_sing['CO2_per_capita'] = df_sing['CO2'] / df_sing['POP']\n",
    "\n",
    "### Calculate the per capita GDP\n",
    "df_sing['GDP_per_capita'] = df_sing['GDP'] / df_sing['POP']\n"
   ]
  },
  {
   "cell_type": "code",
   "execution_count": 17,
   "metadata": {},
   "outputs": [],
   "source": [
    "from statsmodels.graphics.tsaplots import plot_acf,plot_pacf\n",
    "from statsmodels.tsa.ar_model import AutoReg"
   ]
  },
  {
   "cell_type": "code",
   "execution_count": 18,
   "metadata": {},
   "outputs": [],
   "source": [
    "### Add 't' column to df_sing\n",
    "df_sing['t'] = np.arange(1, len(df_sing)+1)"
   ]
  },
  {
   "cell_type": "code",
   "execution_count": 19,
   "metadata": {},
   "outputs": [
    {
     "name": "stdout",
     "output_type": "stream",
     "text": [
      "The linear regression model is: y = -0.1087278842003077x + 10.74793883372805\n"
     ]
    },
    {
     "data": {
      "image/png": "[encoded data removed]",
      "text/plain": [
       "<Figure size 640x480 with 1 Axes>"
      ]
     },
     "metadata": {},
     "output_type": "display_data"
    },
    {
     "name": "stderr",
     "output_type": "stream",
     "text": [
      "/Users/jacob/opt/anaconda3/envs/SIADS/lib/python3.8/site-packages/statsmodels/graphics/tsaplots.py:348: FutureWarning: The default method 'yw' can produce PACF values outside of the [-1,1] interval. After 0.13, the default will change tounadjusted Yule-Walker ('ywm'). You can use this method now by setting method='ywm'.\n",
      "  warnings.warn(\n"
     ]
    },
    {
     "data": {
      "image/png": "[encoded data removed]",
      "text/plain": [
       "<Figure size 640x480 with 1 Axes>"
      ]
     },
     "metadata": {},
     "output_type": "display_data"
    }
   ],
   "source": [
    "### Make a linear regression model for CO2 emission in Singapore\n",
    "X = df_sing['t'].values.reshape(-1, 1)\n",
    "y = df_sing['CO2'].values.reshape(-1, 1)\n",
    "\n",
    "model = LinearRegression().fit(X, y)\n",
    "coefficients = model.coef_\n",
    "intercept = model.intercept_\n",
    "linear_model = model.predict(X)\n",
    "print('The linear regression model is: y = {}x + {}'.format(coefficients[0][0], intercept[0]))\n",
    "\n",
    "### Make remaining CO2 emission in Singapore\n",
    "remaining = df_sing['CO2'] - linear_model[:,0]\n",
    "\n",
    "### Make autocorrelation plot of remaining CO2 emission in Singapore\n",
    "plot_acf(remaining, lags=10)\n",
    "plt.show()\n",
    "plot_pacf(remaining, lags=10)\n",
    "plt.show()"
   ]
  },
  {
   "attachments": {},
   "cell_type": "markdown",
   "metadata": {},
   "source": [
    "Since the data has some autocorrelation, the auto-regression performed later is somewhat unreliable, but I hope it will be used as a reference."
   ]
  },
  {
   "cell_type": "code",
   "execution_count": 20,
   "metadata": {},
   "outputs": [
    {
     "name": "stderr",
     "output_type": "stream",
     "text": [
      "/Users/jacob/opt/anaconda3/envs/SIADS/lib/python3.8/site-packages/statsmodels/tsa/base/tsa_model.py:471: ValueWarning: No frequency information was provided, so inferred frequency AS-JAN will be used.\n",
      "  self._init_dates(dates, freq)\n",
      "/Users/jacob/opt/anaconda3/envs/SIADS/lib/python3.8/site-packages/statsmodels/tsa/deterministic.py:302: UserWarning: Only PeriodIndexes, DatetimeIndexes with a frequency set, RangesIndexes, and Index with a unit increment support extending. The index is set will contain the position relative to the data length.\n",
      "  fcast_index = self._extend_index(index, steps, forecast_index)\n"
     ]
    },
    {
     "data": {
      "text/html": [
       "\n",
       "  <div class=\"bk-root\" id=\"365013ce-12fb-4761-a6c1-a235489358a1\" data-root-id=\"3040\"></div>\n"
      ]
     },
     "metadata": {},
     "output_type": "display_data"
    },
    {
     "data": {
      "application/javascript": "(function(root) {\n  function embed_document(root) {\n  const docs_json = {\"328cc7a3-2251-472b-a399-5a6b001d426e\":{\"defs\":[],\"roots\":{\"references\":[{\"attributes\":{\"below\":[{\"id\":\"3049\"}],\"center\":[{\"id\":\"3052\"},{\"id\":\"3056\"},{\"id\":\"3089\"}],\"height\":400,\"left\":[{\"id\":\"3053\"}],\"renderers\":[{\"id\":\"3076\"},{\"id\":\"3095\"}],\"title\":{\"id\":\"3071\"},\"toolbar\":{\"id\":\"3064\"},\"width\":800,\"x_range\":{\"id\":\"3041\"},\"x_scale\":{\"id\":\"3045\"},\"y_range\":{\"id\":\"3043\"},\"y_scale\":{\"id\":\"3047\"}},\"id\":\"3040\",\"subtype\":\"Figure\",\"type\":\"Plot\"},{\"attributes\":{},\"id\":\"3061\",\"type\":\"ResetTool\"},{\"attributes\":{},\"id\":\"3058\",\"type\":\"WheelZoomTool\"},{\"attributes\":{},\"id\":\"3081\",\"type\":\"BasicTickFormatter\"},{\"attributes\":{\"line_alpha\":0.1,\"line_color\":\"blue\",\"line_width\":2,\"x\":{\"field\":\"t\"},\"y\":{\"field\":\"CO2\"}},\"id\":\"3074\",\"type\":\"Line\"},{\"attributes\":{},\"id\":\"3057\",\"type\":\"PanTool\"},{\"attributes\":{\"coordinates\":null,\"group\":null,\"text\":\"CO2 emission prediction in Singapore with AR(5) model\"},\"id\":\"3071\",\"type\":\"Title\"},{\"attributes\":{},\"id\":\"3043\",\"type\":\"DataRange1d\"},{\"attributes\":{},\"id\":\"3060\",\"type\":\"SaveTool\"},{\"attributes\":{\"bottom_units\":\"screen\",\"coordinates\":null,\"fill_alpha\":0.5,\"fill_color\":\"lightgrey\",\"group\":null,\"left_units\":\"screen\",\"level\":\"overlay\",\"line_alpha\":1.0,\"line_color\":\"black\",\"line_dash\":[4,4],\"line_width\":2,\"right_units\":\"screen\",\"syncable\":false,\"top_units\":\"screen\"},\"id\":\"3063\",\"type\":\"BoxAnnotation\"},{\"attributes\":{\"data\":{\"CO2\":{\"__ndarray__\":\"Aket6LwDI0B7xggiJnAjQL3j8s3YcSNAp861VXjTJUDiqNJYejcmQEi4pIQxUyVAjMqDb+D8JEAnPgab7BokQCEK4bFL3iJAUurzaNkYI0DwjAR0COokQIcd1gVpUCRARmYbq2/GI0A+EAgsLYwiQOmcmTKCBCNA+GUfc/BMIUBS/gUP5eMgQICqMsZusCBAjmxrBYvBH0DqF2XPMiQfQE/sCSwltSBAFfS3nP5FIUAbQJjgvHIgQK4s5/X2QyBAwFd9Yh08IED+HIpIYGogQA==\",\"dtype\":\"float64\",\"order\":\"little\",\"shape\":[26]},\"CO2_per_capita\":{\"__ndarray__\":\"NM7ABlMsyj7H42/CZAHKPqeKLDiRPsk+KrGUJM+gyz4Tb9h4F0HLPqG3BPCoYMk+rwvelEf7xz6vud2N6zbGPmTfQj3OJsQ+Y4yzDcg7xD5MhGzIPcfFPoSP3Jsnl8Q+9YzYu6/cwz631z484+fCPl/deenNJMM+BD4hb78CwT5q8ZpzehjAPqWvgn6cgr4+c0EOxd+Fuz4KNBQ8OjC6PhKKCFZmm7s+J0X8cfvzuz5MFvYO+Pi5Pmsg23l/Rbk+HtV22//luD6NY7Mv8OC4Pg==\",\"dtype\":\"float64\",\"order\":\"little\",\"shape\":[26]},\"GDP\":{\"__ndarray__\":\"IpXSyeAqx0D7iaOjMFPMQHJ/kfL0g89A6oSjzoHc0UAbbUL6QQzVQNNVA1KaVNhAAQXXP2ie2UBBHG80/sHZQCf2EDFTUdVAEn5mZwVJ1UDIWgnuFEvXQK5PbkgBMdVAa/xVFuyj1UAULLzBiSzXQFd8SmQi9tpAyrCJ2VBC3UBd+ufuJH3gQFJF9QYeQeNA7RcwBO+I40BXhcae5gHjQFrKPbqeEOdAjMohuE1Q6kAt5RuiTx/rQKvRGqDt0OtANDZD/FAb7ECdZ8bM0yvrQA==\",\"dtype\":\"float64\",\"order\":\"little\",\"shape\":[26]},\"GDP_per_capita\":{\"__ndarray__\":\"uSKOEbbjbz+dKYppivJyP4xIAeEsdXQ/ZmSs2Aicdj9RbV5DBtJ5P5ioeb1J9Hw/E5r47epFfT+ZKUVUz3V8PxZjy7d6xHY/VwK87EmNdj9h/+4idEF4P8v36wbOenU/0jr1ZkW8dT8nx3gSIJ93P+KlZp3rI3s/pyWyddfEfD/Fo8aXH21/P+ugSdKPmYE/jPMLBU/ugD8P9yGo9/d/P1gQXkNKDoM/XuOybZRKhT+DV/im62mFP7rjaNDYm4U/dokVpYaNhT9KAm15+ZaEPw==\",\"dtype\":\"float64\",\"order\":\"little\",\"shape\":[26]},\"POP\":{\"__ndarray__\":\"AAAAAG4/R0EAAACANetHQQAAAAD1pUhBAAAAgJ9HSUEAAAAA1BVKQQAAAADN40pBAAAAAFgBTEEAAAAAI/ZMQQAAAIBW9k1BAAAAgOEzTkEAAACA97pOQQAAAAAOkk9BAAAAACfcT0EAAAAAxWRPQQAAAAAEyk9BAAAAgMhFUEEAAABANcpQQQAAAMANgVFBAAAAAPl1UkEAAABArQZTQQAAAAC/XVNBAAAAADLGU0EAAABA7UNUQQAAAICemFRBAAAAAIfdVEEAAACARh1VQQ==\",\"dtype\":\"float64\",\"order\":\"little\",\"shape\":[26]},\"Year\":{\"__ndarray__\":\"AACA53JeYkIAAAANaUljQgAAgDJfNGRCAACAI/ofZUIAAABJ8ApmQgAAgG7m9WZCAAAAlNzgZ0IAAACFd8xoQgAAgKptt2lCAAAA0GOiakIAAID1WY1rQgAAgOb0eGxCAAAADOtjbUIAAIAx4U5uQgAAAFfXOW9CAAAAJLkScEIAAMA2NIhwQgAAgEmv/XBCAABAXCpzcUIAAMDU9+hxQgAAgOdyXnJCAABA+u3TckIAAAANaUlzQgAAgIU2v3NCAABAmLE0dEIAAACrLKp0Qg==\",\"dtype\":\"float64\",\"order\":\"little\",\"shape\":[26]},\"t\":[1,2,3,4,5,6,7,8,9,10,11,12,13,14,15,16,17,18,19,20,21,22,23,24,25,26]},\"selected\":{\"id\":\"3087\"},\"selection_policy\":{\"id\":\"3086\"}},\"id\":\"3039\",\"type\":\"ColumnDataSource\"},{\"attributes\":{},\"id\":\"3045\",\"type\":\"LinearScale\"},{\"attributes\":{\"axis_label\":\"Year (1990-2025)\",\"coordinates\":null,\"formatter\":{\"id\":\"3084\"},\"group\":null,\"major_label_overrides\":{\"0\":\"1990\",\"10\":\"2000\",\"15\":\"2005\",\"20\":\"2010\",\"25\":\"2015\",\"30\":\"2020\",\"35\":\"2025\",\"5\":\"1995\"},\"major_label_policy\":{\"id\":\"3085\"},\"ticker\":{\"id\":\"3050\"}},\"id\":\"3049\",\"type\":\"LinearAxis\"},{\"attributes\":{\"line_color\":\"blue\",\"line_width\":2,\"x\":{\"field\":\"t\"},\"y\":{\"field\":\"CO2\"}},\"id\":\"3073\",\"type\":\"Line\"},{\"attributes\":{},\"id\":\"3084\",\"type\":\"BasicTickFormatter\"},{\"attributes\":{},\"id\":\"3062\",\"type\":\"HelpTool\"},{\"attributes\":{\"axis_label\":\"CO2 emmissions (metric tons)\",\"coordinates\":null,\"formatter\":{\"id\":\"3081\"},\"group\":null,\"major_label_policy\":{\"id\":\"3082\"},\"ticker\":{\"id\":\"3054\"}},\"id\":\"3053\",\"type\":\"LinearAxis\"},{\"attributes\":{\"axis\":{\"id\":\"3053\"},\"coordinates\":null,\"dimension\":1,\"group\":null,\"ticker\":null},\"id\":\"3056\",\"type\":\"Grid\"},{\"attributes\":{},\"id\":\"3085\",\"type\":\"AllLabels\"},{\"attributes\":{\"axis\":{\"id\":\"3049\"},\"coordinates\":null,\"group\":null,\"ticker\":null},\"id\":\"3052\",\"type\":\"Grid\"},{\"attributes\":{\"data\":{\"x\":[26,27,28,29,30,31,32,33,34,35,36],\"y\":{\"__ndarray__\":\"bIu6EB1vIEAQFt5bZ2UgQJhpijOxYCBAqGJjcWNfIEBP08YCAV4gQKEvobdAXCBAw1Ypx6VaIEDrpeLpSlkgQOHwJ9MZWCBA9xb+pAZXIEA2yWWhD1YgQA==\",\"dtype\":\"float64\",\"order\":\"little\",\"shape\":[11]}},\"selected\":{\"id\":\"3108\"},\"selection_policy\":{\"id\":\"3107\"}},\"id\":\"3091\",\"type\":\"ColumnDataSource\"},{\"attributes\":{\"label\":{\"value\":\"CO2 emission\"},\"renderers\":[{\"id\":\"3076\"}]},\"id\":\"3090\",\"type\":\"LegendItem\"},{\"attributes\":{\"label\":{\"value\":\"CO2 emission prediction with AR model\"},\"renderers\":[{\"id\":\"3095\"}]},\"id\":\"3110\",\"type\":\"LegendItem\"},{\"attributes\":{\"line_alpha\":0.2,\"line_color\":\"blue\",\"line_dash\":[6],\"line_width\":2,\"x\":{\"field\":\"x\"},\"y\":{\"field\":\"y\"}},\"id\":\"3094\",\"type\":\"Line\"},{\"attributes\":{},\"id\":\"3050\",\"type\":\"BasicTicker\"},{\"attributes\":{},\"id\":\"3041\",\"type\":\"DataRange1d\"},{\"attributes\":{\"source\":{\"id\":\"3091\"}},\"id\":\"3096\",\"type\":\"CDSView\"},{\"attributes\":{\"coordinates\":null,\"data_source\":{\"id\":\"3091\"},\"glyph\":{\"id\":\"3092\"},\"group\":null,\"hover_glyph\":null,\"muted_glyph\":{\"id\":\"3094\"},\"nonselection_glyph\":{\"id\":\"3093\"},\"view\":{\"id\":\"3096\"}},\"id\":\"3095\",\"type\":\"GlyphRenderer\"},{\"attributes\":{},\"id\":\"3047\",\"type\":\"LinearScale\"},{\"attributes\":{},\"id\":\"3108\",\"type\":\"Selection\"},{\"attributes\":{\"source\":{\"id\":\"3039\"}},\"id\":\"3077\",\"type\":\"CDSView\"},{\"attributes\":{\"line_color\":\"blue\",\"line_dash\":[6],\"line_width\":2,\"x\":{\"field\":\"x\"},\"y\":{\"field\":\"y\"}},\"id\":\"3092\",\"type\":\"Line\"},{\"attributes\":{\"tools\":[{\"id\":\"3057\"},{\"id\":\"3058\"},{\"id\":\"3059\"},{\"id\":\"3060\"},{\"id\":\"3061\"},{\"id\":\"3062\"}]},\"id\":\"3064\",\"type\":\"Toolbar\"},{\"attributes\":{\"line_alpha\":0.1,\"line_color\":\"blue\",\"line_dash\":[6],\"line_width\":2,\"x\":{\"field\":\"x\"},\"y\":{\"field\":\"y\"}},\"id\":\"3093\",\"type\":\"Line\"},{\"attributes\":{\"line_alpha\":0.2,\"line_color\":\"blue\",\"line_width\":2,\"x\":{\"field\":\"t\"},\"y\":{\"field\":\"CO2\"}},\"id\":\"3075\",\"type\":\"Line\"},{\"attributes\":{},\"id\":\"3107\",\"type\":\"UnionRenderers\"},{\"attributes\":{\"coordinates\":null,\"data_source\":{\"id\":\"3039\"},\"glyph\":{\"id\":\"3073\"},\"group\":null,\"hover_glyph\":null,\"muted_glyph\":{\"id\":\"3075\"},\"nonselection_glyph\":{\"id\":\"3074\"},\"view\":{\"id\":\"3077\"}},\"id\":\"3076\",\"type\":\"GlyphRenderer\"},{\"attributes\":{\"overlay\":{\"id\":\"3063\"}},\"id\":\"3059\",\"type\":\"BoxZoomTool\"},{\"attributes\":{},\"id\":\"3082\",\"type\":\"AllLabels\"},{\"attributes\":{},\"id\":\"3087\",\"type\":\"Selection\"},{\"attributes\":{\"coordinates\":null,\"group\":null,\"items\":[{\"id\":\"3090\"},{\"id\":\"3110\"}]},\"id\":\"3089\",\"type\":\"Legend\"},{\"attributes\":{},\"id\":\"3086\",\"type\":\"UnionRenderers\"},{\"attributes\":{},\"id\":\"3054\",\"type\":\"BasicTicker\"}],\"root_ids\":[\"3040\"]},\"title\":\"Bokeh Application\",\"version\":\"2.4.3\"}};\n  const render_items = [{\"docid\":\"328cc7a3-2251-472b-a399-5a6b001d426e\",\"root_ids\":[\"3040\"],\"roots\":{\"3040\":\"365013ce-12fb-4761-a6c1-a235489358a1\"}}];\n  root.Bokeh.embed.embed_items_notebook(docs_json, render_items);\n  }\n  if (root.Bokeh !== undefined) {\n    embed_document(root);\n  } else {\n    let attempts = 0;\n    const timer = setInterval(function(root) {\n      if (root.Bokeh !== undefined) {\n        clearInterval(timer);\n        embed_document(root);\n      } else {\n        attempts++;\n        if (attempts > 100) {\n          clearInterval(timer);\n          console.log(\"Bokeh: ERROR: Unable to run BokehJS code because BokehJS library is missing\");\n        }\n      }\n    }, 10, root)\n  }\n})(window);",
      "application/vnd.bokehjs_exec.v0+json": ""
     },
     "metadata": {
      "application/vnd.bokehjs_exec.v0+json": {
       "id": "3040"
      }
     },
     "output_type": "display_data"
    }
   ],
   "source": [
    "### Make predictions using AR(2) model by t=30\n",
    "n = 4\n",
    "model = AutoReg(df_sing['CO2'], lags=n)\n",
    "model_fit = model.fit()\n",
    "coef = model_fit.params\n",
    "predictions = model_fit.predict(start=len(remaining), end=len(remaining)+10)\n",
    "pred_index = np.arange(len(remaining), len(remaining)+11)\n",
    "\n",
    "\n",
    "### Make a Bokeh plot of CO2 emission prediction in Singapore\n",
    "source = ColumnDataSource(df_sing)\n",
    "\n",
    "co2_pred = figure(plot_width=800, plot_height=400)\n",
    "co2_pred.title.text = 'CO2 emission prediction in Singapore with AR(5) model'\n",
    "co2_pred.xaxis.axis_label = 'Year (1990-2025)'\n",
    "# co2_pred.xaxis.ticker=[1990, 2000, 2010, 2020, 2030, 2040, 2050, 2060, 2070, 2080, 2090, 2100]\n",
    "co2_pred.xaxis.major_label_overrides = {0:'1990', 5:'1995', 10:'2000', 15:'2005', 20:'2010', 25:'2015', 30:'2020', 35:'2025'}\n",
    "co2_pred.yaxis.axis_label = 'CO2 emmissions (metric tons)'\n",
    "co2_pred.line(x='t', y='CO2', source=source, line_width=2, line_color='blue', legend_label='CO2 emission')\n",
    "co2_pred.line(x=pred_index, y=predictions, line_width=2, line_dash='dashed', line_color='blue', legend_label='CO2 emission prediction with AR model')\n",
    "\n",
    "show(co2_pred)"
   ]
  }
 ],
 "metadata": {
  "kernelspec": {
   "display_name": "Python 3.8.13 ('SIADS')",
   "language": "python",
   "name": "python3"
  },
  "language_info": {
   "codemirror_mode": {
    "name": "ipython",
    "version": 3
   },
   "file_extension": ".py",
   "mimetype": "text/x-python",
   "name": "python",
   "nbconvert_exporter": "python",
   "pygments_lexer": "ipython3",
   "version": "3.8.13"
  },
  "orig_nbformat": 4,
  "vscode": {
   "interpreter": {
    "hash": "c41c6f85a905c49365dee660c68024afdfb0e252ac52b086c9d866f9441d50ce"
   }
  }
 },
 "nbformat": 4,
 "nbformat_minor": 2
}
